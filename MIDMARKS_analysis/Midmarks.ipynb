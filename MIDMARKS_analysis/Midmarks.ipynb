{
 "cells": [
  {
   "cell_type": "code",
   "execution_count": 1,
   "id": "2fa6b074",
   "metadata": {},
   "outputs": [],
   "source": [
    "#DA Case Study 2\n",
    "#Madas Vaishnavi\n",
    "#2211CS010341\n",
    "#Group-4"
   ]
  },
  {
   "cell_type": "code",
   "execution_count": 1,
   "id": "0109d0ca",
   "metadata": {},
   "outputs": [
    {
     "name": "stdout",
     "output_type": "stream",
     "text": [
      "     S.NO SECTION  DV M-II  PP BEEE  FL FIMS\n",
      "0     1.0   ALPHA  12    0  17    9  19   15\n",
      "1     2.0   ALPHA  19   12  16   16  18    3\n",
      "2     3.0   ALPHA  18   14  18   18  18   16\n",
      "3     4.0   ALPHA  15    9  19   17  19   15\n",
      "4     5.0   ALPHA  18   17  19   19  20   18\n",
      "..    ...     ...  ..  ...  ..  ...  ..  ...\n",
      "713   NaN    ZETA  19    8   8   19  17   18\n",
      "714   NaN    ZETA  12    1   7   10  20    8\n",
      "715   NaN    ZETA  17    6  14   14  17   18\n",
      "716   NaN    ZETA  12    1   6    7  15   12\n",
      "717   NaN    ZETA  19   14  17   16  20   19\n",
      "\n",
      "[718 rows x 8 columns]\n"
     ]
    }
   ],
   "source": [
    "import pandas as pd\n",
    "df = pd.read_excel(\"C:/Users/vaish/OneDrive/Desktop/DA/MIDMARKS (2).xlsx\")\n",
    "print(df)\n"
   ]
  },
  {
   "cell_type": "markdown",
   "id": "f922a526",
   "metadata": {},
   "source": [
    " Imports pandas and reads data from MIDMARKS.xlsx into a DataFrame"
   ]
  },
  {
   "cell_type": "code",
   "execution_count": 2,
   "id": "ff72554b",
   "metadata": {},
   "outputs": [
    {
     "data": {
      "text/html": [
       "<div>\n",
       "<style scoped>\n",
       "    .dataframe tbody tr th:only-of-type {\n",
       "        vertical-align: middle;\n",
       "    }\n",
       "\n",
       "    .dataframe tbody tr th {\n",
       "        vertical-align: top;\n",
       "    }\n",
       "\n",
       "    .dataframe thead th {\n",
       "        text-align: right;\n",
       "    }\n",
       "</style>\n",
       "<table border=\"1\" class=\"dataframe\">\n",
       "  <thead>\n",
       "    <tr style=\"text-align: right;\">\n",
       "      <th></th>\n",
       "      <th>S.NO</th>\n",
       "      <th>SECTION</th>\n",
       "      <th>DV</th>\n",
       "      <th>M-II</th>\n",
       "      <th>PP</th>\n",
       "      <th>BEEE</th>\n",
       "      <th>FL</th>\n",
       "      <th>FIMS</th>\n",
       "    </tr>\n",
       "  </thead>\n",
       "  <tbody>\n",
       "    <tr>\n",
       "      <th>0</th>\n",
       "      <td>1.0</td>\n",
       "      <td>ALPHA</td>\n",
       "      <td>12</td>\n",
       "      <td>0</td>\n",
       "      <td>17</td>\n",
       "      <td>9</td>\n",
       "      <td>19</td>\n",
       "      <td>15</td>\n",
       "    </tr>\n",
       "    <tr>\n",
       "      <th>1</th>\n",
       "      <td>2.0</td>\n",
       "      <td>ALPHA</td>\n",
       "      <td>19</td>\n",
       "      <td>12</td>\n",
       "      <td>16</td>\n",
       "      <td>16</td>\n",
       "      <td>18</td>\n",
       "      <td>3</td>\n",
       "    </tr>\n",
       "    <tr>\n",
       "      <th>2</th>\n",
       "      <td>3.0</td>\n",
       "      <td>ALPHA</td>\n",
       "      <td>18</td>\n",
       "      <td>14</td>\n",
       "      <td>18</td>\n",
       "      <td>18</td>\n",
       "      <td>18</td>\n",
       "      <td>16</td>\n",
       "    </tr>\n",
       "    <tr>\n",
       "      <th>3</th>\n",
       "      <td>4.0</td>\n",
       "      <td>ALPHA</td>\n",
       "      <td>15</td>\n",
       "      <td>9</td>\n",
       "      <td>19</td>\n",
       "      <td>17</td>\n",
       "      <td>19</td>\n",
       "      <td>15</td>\n",
       "    </tr>\n",
       "    <tr>\n",
       "      <th>4</th>\n",
       "      <td>5.0</td>\n",
       "      <td>ALPHA</td>\n",
       "      <td>18</td>\n",
       "      <td>17</td>\n",
       "      <td>19</td>\n",
       "      <td>19</td>\n",
       "      <td>20</td>\n",
       "      <td>18</td>\n",
       "    </tr>\n",
       "    <tr>\n",
       "      <th>...</th>\n",
       "      <td>...</td>\n",
       "      <td>...</td>\n",
       "      <td>...</td>\n",
       "      <td>...</td>\n",
       "      <td>...</td>\n",
       "      <td>...</td>\n",
       "      <td>...</td>\n",
       "      <td>...</td>\n",
       "    </tr>\n",
       "    <tr>\n",
       "      <th>713</th>\n",
       "      <td>NaN</td>\n",
       "      <td>ZETA</td>\n",
       "      <td>19</td>\n",
       "      <td>8</td>\n",
       "      <td>8</td>\n",
       "      <td>19</td>\n",
       "      <td>17</td>\n",
       "      <td>18</td>\n",
       "    </tr>\n",
       "    <tr>\n",
       "      <th>714</th>\n",
       "      <td>NaN</td>\n",
       "      <td>ZETA</td>\n",
       "      <td>12</td>\n",
       "      <td>1</td>\n",
       "      <td>7</td>\n",
       "      <td>10</td>\n",
       "      <td>20</td>\n",
       "      <td>8</td>\n",
       "    </tr>\n",
       "    <tr>\n",
       "      <th>715</th>\n",
       "      <td>NaN</td>\n",
       "      <td>ZETA</td>\n",
       "      <td>17</td>\n",
       "      <td>6</td>\n",
       "      <td>14</td>\n",
       "      <td>14</td>\n",
       "      <td>17</td>\n",
       "      <td>18</td>\n",
       "    </tr>\n",
       "    <tr>\n",
       "      <th>716</th>\n",
       "      <td>NaN</td>\n",
       "      <td>ZETA</td>\n",
       "      <td>12</td>\n",
       "      <td>1</td>\n",
       "      <td>6</td>\n",
       "      <td>7</td>\n",
       "      <td>15</td>\n",
       "      <td>12</td>\n",
       "    </tr>\n",
       "    <tr>\n",
       "      <th>717</th>\n",
       "      <td>NaN</td>\n",
       "      <td>ZETA</td>\n",
       "      <td>19</td>\n",
       "      <td>14</td>\n",
       "      <td>17</td>\n",
       "      <td>16</td>\n",
       "      <td>20</td>\n",
       "      <td>19</td>\n",
       "    </tr>\n",
       "  </tbody>\n",
       "</table>\n",
       "<p>718 rows × 8 columns</p>\n",
       "</div>"
      ],
      "text/plain": [
       "     S.NO SECTION  DV M-II  PP BEEE  FL FIMS\n",
       "0     1.0   ALPHA  12    0  17    9  19   15\n",
       "1     2.0   ALPHA  19   12  16   16  18    3\n",
       "2     3.0   ALPHA  18   14  18   18  18   16\n",
       "3     4.0   ALPHA  15    9  19   17  19   15\n",
       "4     5.0   ALPHA  18   17  19   19  20   18\n",
       "..    ...     ...  ..  ...  ..  ...  ..  ...\n",
       "713   NaN    ZETA  19    8   8   19  17   18\n",
       "714   NaN    ZETA  12    1   7   10  20    8\n",
       "715   NaN    ZETA  17    6  14   14  17   18\n",
       "716   NaN    ZETA  12    1   6    7  15   12\n",
       "717   NaN    ZETA  19   14  17   16  20   19\n",
       "\n",
       "[718 rows x 8 columns]"
      ]
     },
     "execution_count": 2,
     "metadata": {},
     "output_type": "execute_result"
    }
   ],
   "source": [
    "df['SECTION'] = df['SECTION'].fillna('SIGMA') \n",
    "df['SECTION'] = df['SECTION'].replace('', 'SIGMA')\n",
    "df"
   ]
  },
  {
   "cell_type": "code",
   "execution_count": 3,
   "id": "af012aae",
   "metadata": {},
   "outputs": [
    {
     "data": {
      "text/plain": [
       "<bound method DataFrame.info of      S.NO SECTION  DV M-II  PP BEEE  FL FIMS\n",
       "0     1.0   ALPHA  12    0  17    9  19   15\n",
       "1     2.0   ALPHA  19   12  16   16  18    3\n",
       "2     3.0   ALPHA  18   14  18   18  18   16\n",
       "3     4.0   ALPHA  15    9  19   17  19   15\n",
       "4     5.0   ALPHA  18   17  19   19  20   18\n",
       "..    ...     ...  ..  ...  ..  ...  ..  ...\n",
       "713   NaN    ZETA  19    8   8   19  17   18\n",
       "714   NaN    ZETA  12    1   7   10  20    8\n",
       "715   NaN    ZETA  17    6  14   14  17   18\n",
       "716   NaN    ZETA  12    1   6    7  15   12\n",
       "717   NaN    ZETA  19   14  17   16  20   19\n",
       "\n",
       "[718 rows x 8 columns]>"
      ]
     },
     "execution_count": 3,
     "metadata": {},
     "output_type": "execute_result"
    }
   ],
   "source": [
    "df.info"
   ]
  },
  {
   "cell_type": "code",
   "execution_count": 4,
   "id": "68451d81",
   "metadata": {},
   "outputs": [
    {
     "data": {
      "text/html": [
       "<div>\n",
       "<style scoped>\n",
       "    .dataframe tbody tr th:only-of-type {\n",
       "        vertical-align: middle;\n",
       "    }\n",
       "\n",
       "    .dataframe tbody tr th {\n",
       "        vertical-align: top;\n",
       "    }\n",
       "\n",
       "    .dataframe thead th {\n",
       "        text-align: right;\n",
       "    }\n",
       "</style>\n",
       "<table border=\"1\" class=\"dataframe\">\n",
       "  <thead>\n",
       "    <tr style=\"text-align: right;\">\n",
       "      <th></th>\n",
       "      <th>S.NO</th>\n",
       "      <th>SECTION</th>\n",
       "      <th>DV</th>\n",
       "      <th>M-II</th>\n",
       "      <th>PP</th>\n",
       "      <th>BEEE</th>\n",
       "      <th>FL</th>\n",
       "      <th>FIMS</th>\n",
       "    </tr>\n",
       "  </thead>\n",
       "  <tbody>\n",
       "    <tr>\n",
       "      <th>0</th>\n",
       "      <td>1</td>\n",
       "      <td>ALPHA</td>\n",
       "      <td>12</td>\n",
       "      <td>0</td>\n",
       "      <td>17</td>\n",
       "      <td>9</td>\n",
       "      <td>19</td>\n",
       "      <td>15</td>\n",
       "    </tr>\n",
       "    <tr>\n",
       "      <th>1</th>\n",
       "      <td>2</td>\n",
       "      <td>ALPHA</td>\n",
       "      <td>19</td>\n",
       "      <td>12</td>\n",
       "      <td>16</td>\n",
       "      <td>16</td>\n",
       "      <td>18</td>\n",
       "      <td>3</td>\n",
       "    </tr>\n",
       "    <tr>\n",
       "      <th>2</th>\n",
       "      <td>3</td>\n",
       "      <td>ALPHA</td>\n",
       "      <td>18</td>\n",
       "      <td>14</td>\n",
       "      <td>18</td>\n",
       "      <td>18</td>\n",
       "      <td>18</td>\n",
       "      <td>16</td>\n",
       "    </tr>\n",
       "    <tr>\n",
       "      <th>3</th>\n",
       "      <td>4</td>\n",
       "      <td>ALPHA</td>\n",
       "      <td>15</td>\n",
       "      <td>9</td>\n",
       "      <td>19</td>\n",
       "      <td>17</td>\n",
       "      <td>19</td>\n",
       "      <td>15</td>\n",
       "    </tr>\n",
       "    <tr>\n",
       "      <th>4</th>\n",
       "      <td>5</td>\n",
       "      <td>ALPHA</td>\n",
       "      <td>18</td>\n",
       "      <td>17</td>\n",
       "      <td>19</td>\n",
       "      <td>19</td>\n",
       "      <td>20</td>\n",
       "      <td>18</td>\n",
       "    </tr>\n",
       "    <tr>\n",
       "      <th>...</th>\n",
       "      <td>...</td>\n",
       "      <td>...</td>\n",
       "      <td>...</td>\n",
       "      <td>...</td>\n",
       "      <td>...</td>\n",
       "      <td>...</td>\n",
       "      <td>...</td>\n",
       "      <td>...</td>\n",
       "    </tr>\n",
       "    <tr>\n",
       "      <th>713</th>\n",
       "      <td>714</td>\n",
       "      <td>ZETA</td>\n",
       "      <td>19</td>\n",
       "      <td>8</td>\n",
       "      <td>8</td>\n",
       "      <td>19</td>\n",
       "      <td>17</td>\n",
       "      <td>18</td>\n",
       "    </tr>\n",
       "    <tr>\n",
       "      <th>714</th>\n",
       "      <td>715</td>\n",
       "      <td>ZETA</td>\n",
       "      <td>12</td>\n",
       "      <td>1</td>\n",
       "      <td>7</td>\n",
       "      <td>10</td>\n",
       "      <td>20</td>\n",
       "      <td>8</td>\n",
       "    </tr>\n",
       "    <tr>\n",
       "      <th>715</th>\n",
       "      <td>716</td>\n",
       "      <td>ZETA</td>\n",
       "      <td>17</td>\n",
       "      <td>6</td>\n",
       "      <td>14</td>\n",
       "      <td>14</td>\n",
       "      <td>17</td>\n",
       "      <td>18</td>\n",
       "    </tr>\n",
       "    <tr>\n",
       "      <th>716</th>\n",
       "      <td>717</td>\n",
       "      <td>ZETA</td>\n",
       "      <td>12</td>\n",
       "      <td>1</td>\n",
       "      <td>6</td>\n",
       "      <td>7</td>\n",
       "      <td>15</td>\n",
       "      <td>12</td>\n",
       "    </tr>\n",
       "    <tr>\n",
       "      <th>717</th>\n",
       "      <td>718</td>\n",
       "      <td>ZETA</td>\n",
       "      <td>19</td>\n",
       "      <td>14</td>\n",
       "      <td>17</td>\n",
       "      <td>16</td>\n",
       "      <td>20</td>\n",
       "      <td>19</td>\n",
       "    </tr>\n",
       "  </tbody>\n",
       "</table>\n",
       "<p>718 rows × 8 columns</p>\n",
       "</div>"
      ],
      "text/plain": [
       "     S.NO SECTION  DV M-II  PP BEEE  FL FIMS\n",
       "0       1   ALPHA  12    0  17    9  19   15\n",
       "1       2   ALPHA  19   12  16   16  18    3\n",
       "2       3   ALPHA  18   14  18   18  18   16\n",
       "3       4   ALPHA  15    9  19   17  19   15\n",
       "4       5   ALPHA  18   17  19   19  20   18\n",
       "..    ...     ...  ..  ...  ..  ...  ..  ...\n",
       "713   714    ZETA  19    8   8   19  17   18\n",
       "714   715    ZETA  12    1   7   10  20    8\n",
       "715   716    ZETA  17    6  14   14  17   18\n",
       "716   717    ZETA  12    1   6    7  15   12\n",
       "717   718    ZETA  19   14  17   16  20   19\n",
       "\n",
       "[718 rows x 8 columns]"
      ]
     },
     "execution_count": 4,
     "metadata": {},
     "output_type": "execute_result"
    }
   ],
   "source": [
    "df['S.NO'] = range(1, len(df) + 1)\n",
    "df"
   ]
  },
  {
   "cell_type": "code",
   "execution_count": 5,
   "id": "4b650e52",
   "metadata": {},
   "outputs": [
    {
     "data": {
      "text/plain": [
       "<bound method DataFrame.info of      S.NO SECTION  DV M-II  PP BEEE  FL FIMS\n",
       "0       1   ALPHA  12    0  17    9  19   15\n",
       "1       2   ALPHA  19   12  16   16  18    3\n",
       "2       3   ALPHA  18   14  18   18  18   16\n",
       "3       4   ALPHA  15    9  19   17  19   15\n",
       "4       5   ALPHA  18   17  19   19  20   18\n",
       "..    ...     ...  ..  ...  ..  ...  ..  ...\n",
       "713   714    ZETA  19    8   8   19  17   18\n",
       "714   715    ZETA  12    1   7   10  20    8\n",
       "715   716    ZETA  17    6  14   14  17   18\n",
       "716   717    ZETA  12    1   6    7  15   12\n",
       "717   718    ZETA  19   14  17   16  20   19\n",
       "\n",
       "[718 rows x 8 columns]>"
      ]
     },
     "execution_count": 5,
     "metadata": {},
     "output_type": "execute_result"
    }
   ],
   "source": [
    "df.info"
   ]
  },
  {
   "cell_type": "code",
   "execution_count": 6,
   "id": "cd79052c",
   "metadata": {},
   "outputs": [],
   "source": [
    "df['FL'] = df['FL'].fillna(0) \n",
    "df=df.dropna()"
   ]
  },
  {
   "cell_type": "code",
   "execution_count": 7,
   "id": "770232dd",
   "metadata": {},
   "outputs": [
    {
     "data": {
      "text/plain": [
       "<bound method DataFrame.info of      S.NO SECTION  DV M-II  PP BEEE  FL FIMS\n",
       "0       1   ALPHA  12    0  17    9  19   15\n",
       "1       2   ALPHA  19   12  16   16  18    3\n",
       "2       3   ALPHA  18   14  18   18  18   16\n",
       "3       4   ALPHA  15    9  19   17  19   15\n",
       "4       5   ALPHA  18   17  19   19  20   18\n",
       "..    ...     ...  ..  ...  ..  ...  ..  ...\n",
       "713   714    ZETA  19    8   8   19  17   18\n",
       "714   715    ZETA  12    1   7   10  20    8\n",
       "715   716    ZETA  17    6  14   14  17   18\n",
       "716   717    ZETA  12    1   6    7  15   12\n",
       "717   718    ZETA  19   14  17   16  20   19\n",
       "\n",
       "[716 rows x 8 columns]>"
      ]
     },
     "execution_count": 7,
     "metadata": {},
     "output_type": "execute_result"
    }
   ],
   "source": [
    "df.info"
   ]
  },
  {
   "cell_type": "code",
   "execution_count": 8,
   "id": "24264a51",
   "metadata": {},
   "outputs": [
    {
     "data": {
      "text/plain": [
       "(716, 8)"
      ]
     },
     "execution_count": 8,
     "metadata": {},
     "output_type": "execute_result"
    }
   ],
   "source": [
    "df.shape"
   ]
  },
  {
   "cell_type": "code",
   "execution_count": 9,
   "id": "a3c28c0e",
   "metadata": {},
   "outputs": [
    {
     "data": {
      "text/html": [
       "<div>\n",
       "<style scoped>\n",
       "    .dataframe tbody tr th:only-of-type {\n",
       "        vertical-align: middle;\n",
       "    }\n",
       "\n",
       "    .dataframe tbody tr th {\n",
       "        vertical-align: top;\n",
       "    }\n",
       "\n",
       "    .dataframe thead th {\n",
       "        text-align: right;\n",
       "    }\n",
       "</style>\n",
       "<table border=\"1\" class=\"dataframe\">\n",
       "  <thead>\n",
       "    <tr style=\"text-align: right;\">\n",
       "      <th></th>\n",
       "      <th>S.NO</th>\n",
       "      <th>SECTION</th>\n",
       "      <th>DV</th>\n",
       "      <th>M-II</th>\n",
       "      <th>PP</th>\n",
       "      <th>BEEE</th>\n",
       "      <th>FL</th>\n",
       "      <th>FIMS</th>\n",
       "    </tr>\n",
       "  </thead>\n",
       "  <tbody>\n",
       "  </tbody>\n",
       "</table>\n",
       "</div>"
      ],
      "text/plain": [
       "Empty DataFrame\n",
       "Columns: [S.NO, SECTION, DV, M-II, PP, BEEE, FL, FIMS]\n",
       "Index: []"
      ]
     },
     "execution_count": 9,
     "metadata": {},
     "output_type": "execute_result"
    }
   ],
   "source": [
    "df[df.DV==0]"
   ]
  },
  {
   "cell_type": "markdown",
   "id": "94834177",
   "metadata": {},
   "source": [
    " Filters rows where the DV column equals to 0 ."
   ]
  },
  {
   "cell_type": "code",
   "execution_count": 10,
   "id": "05fada0e",
   "metadata": {},
   "outputs": [
    {
     "data": {
      "text/html": [
       "<div>\n",
       "<style scoped>\n",
       "    .dataframe tbody tr th:only-of-type {\n",
       "        vertical-align: middle;\n",
       "    }\n",
       "\n",
       "    .dataframe tbody tr th {\n",
       "        vertical-align: top;\n",
       "    }\n",
       "\n",
       "    .dataframe thead th {\n",
       "        text-align: right;\n",
       "    }\n",
       "</style>\n",
       "<table border=\"1\" class=\"dataframe\">\n",
       "  <thead>\n",
       "    <tr style=\"text-align: right;\">\n",
       "      <th></th>\n",
       "      <th>S.NO</th>\n",
       "      <th>SECTION</th>\n",
       "      <th>DV</th>\n",
       "      <th>M-II</th>\n",
       "      <th>PP</th>\n",
       "      <th>BEEE</th>\n",
       "      <th>FL</th>\n",
       "      <th>FIMS</th>\n",
       "    </tr>\n",
       "  </thead>\n",
       "  <tbody>\n",
       "    <tr>\n",
       "      <th>443</th>\n",
       "      <td>444</td>\n",
       "      <td>GAMMA</td>\n",
       "      <td>12</td>\n",
       "      <td>5</td>\n",
       "      <td>1</td>\n",
       "      <td>20</td>\n",
       "      <td>10</td>\n",
       "      <td>0</td>\n",
       "    </tr>\n",
       "  </tbody>\n",
       "</table>\n",
       "</div>"
      ],
      "text/plain": [
       "     S.NO SECTION  DV M-II PP BEEE  FL FIMS\n",
       "443   444   GAMMA  12    5  1   20  10    0"
      ]
     },
     "execution_count": 10,
     "metadata": {},
     "output_type": "execute_result"
    }
   ],
   "source": [
    "df[df.FIMS==0]"
   ]
  },
  {
   "cell_type": "markdown",
   "id": "503ef1f8",
   "metadata": {},
   "source": [
    "Filters rows where the FIMS column equals 0."
   ]
  },
  {
   "cell_type": "code",
   "execution_count": 11,
   "id": "ce94698c",
   "metadata": {},
   "outputs": [
    {
     "data": {
      "text/plain": [
       "20    103\n",
       "17     79\n",
       "16     74\n",
       "18     69\n",
       "15     63\n",
       "19     60\n",
       "11     43\n",
       "12     41\n",
       "14     41\n",
       "13     30\n",
       "10     26\n",
       "9      20\n",
       "6      12\n",
       "5      11\n",
       "8      11\n",
       "A      10\n",
       "7       8\n",
       "2       6\n",
       "4       4\n",
       "1       3\n",
       "3       1\n",
       "MP      1\n",
       "Name: DV, dtype: int64"
      ]
     },
     "execution_count": 11,
     "metadata": {},
     "output_type": "execute_result"
    }
   ],
   "source": [
    "df.DV.value_counts()"
   ]
  },
  {
   "cell_type": "markdown",
   "id": "f273234b",
   "metadata": {},
   "source": [
    " Displays value counts for the DV column."
   ]
  },
  {
   "cell_type": "code",
   "execution_count": 12,
   "id": "2b013607",
   "metadata": {},
   "outputs": [
    {
     "data": {
      "text/html": [
       "<div>\n",
       "<style scoped>\n",
       "    .dataframe tbody tr th:only-of-type {\n",
       "        vertical-align: middle;\n",
       "    }\n",
       "\n",
       "    .dataframe tbody tr th {\n",
       "        vertical-align: top;\n",
       "    }\n",
       "\n",
       "    .dataframe thead th {\n",
       "        text-align: right;\n",
       "    }\n",
       "</style>\n",
       "<table border=\"1\" class=\"dataframe\">\n",
       "  <thead>\n",
       "    <tr style=\"text-align: right;\">\n",
       "      <th></th>\n",
       "      <th>S.NO</th>\n",
       "      <th>SECTION</th>\n",
       "      <th>DV</th>\n",
       "      <th>M2</th>\n",
       "      <th>PP</th>\n",
       "      <th>BEEE</th>\n",
       "      <th>FL</th>\n",
       "      <th>FIMS</th>\n",
       "    </tr>\n",
       "  </thead>\n",
       "  <tbody>\n",
       "    <tr>\n",
       "      <th>0</th>\n",
       "      <td>1</td>\n",
       "      <td>ALPHA</td>\n",
       "      <td>12</td>\n",
       "      <td>0</td>\n",
       "      <td>17</td>\n",
       "      <td>9</td>\n",
       "      <td>19</td>\n",
       "      <td>15</td>\n",
       "    </tr>\n",
       "    <tr>\n",
       "      <th>1</th>\n",
       "      <td>2</td>\n",
       "      <td>ALPHA</td>\n",
       "      <td>19</td>\n",
       "      <td>12</td>\n",
       "      <td>16</td>\n",
       "      <td>16</td>\n",
       "      <td>18</td>\n",
       "      <td>3</td>\n",
       "    </tr>\n",
       "    <tr>\n",
       "      <th>2</th>\n",
       "      <td>3</td>\n",
       "      <td>ALPHA</td>\n",
       "      <td>18</td>\n",
       "      <td>14</td>\n",
       "      <td>18</td>\n",
       "      <td>18</td>\n",
       "      <td>18</td>\n",
       "      <td>16</td>\n",
       "    </tr>\n",
       "    <tr>\n",
       "      <th>3</th>\n",
       "      <td>4</td>\n",
       "      <td>ALPHA</td>\n",
       "      <td>15</td>\n",
       "      <td>9</td>\n",
       "      <td>19</td>\n",
       "      <td>17</td>\n",
       "      <td>19</td>\n",
       "      <td>15</td>\n",
       "    </tr>\n",
       "    <tr>\n",
       "      <th>4</th>\n",
       "      <td>5</td>\n",
       "      <td>ALPHA</td>\n",
       "      <td>18</td>\n",
       "      <td>17</td>\n",
       "      <td>19</td>\n",
       "      <td>19</td>\n",
       "      <td>20</td>\n",
       "      <td>18</td>\n",
       "    </tr>\n",
       "    <tr>\n",
       "      <th>...</th>\n",
       "      <td>...</td>\n",
       "      <td>...</td>\n",
       "      <td>...</td>\n",
       "      <td>...</td>\n",
       "      <td>...</td>\n",
       "      <td>...</td>\n",
       "      <td>...</td>\n",
       "      <td>...</td>\n",
       "    </tr>\n",
       "    <tr>\n",
       "      <th>713</th>\n",
       "      <td>714</td>\n",
       "      <td>ZETA</td>\n",
       "      <td>19</td>\n",
       "      <td>8</td>\n",
       "      <td>8</td>\n",
       "      <td>19</td>\n",
       "      <td>17</td>\n",
       "      <td>18</td>\n",
       "    </tr>\n",
       "    <tr>\n",
       "      <th>714</th>\n",
       "      <td>715</td>\n",
       "      <td>ZETA</td>\n",
       "      <td>12</td>\n",
       "      <td>1</td>\n",
       "      <td>7</td>\n",
       "      <td>10</td>\n",
       "      <td>20</td>\n",
       "      <td>8</td>\n",
       "    </tr>\n",
       "    <tr>\n",
       "      <th>715</th>\n",
       "      <td>716</td>\n",
       "      <td>ZETA</td>\n",
       "      <td>17</td>\n",
       "      <td>6</td>\n",
       "      <td>14</td>\n",
       "      <td>14</td>\n",
       "      <td>17</td>\n",
       "      <td>18</td>\n",
       "    </tr>\n",
       "    <tr>\n",
       "      <th>716</th>\n",
       "      <td>717</td>\n",
       "      <td>ZETA</td>\n",
       "      <td>12</td>\n",
       "      <td>1</td>\n",
       "      <td>6</td>\n",
       "      <td>7</td>\n",
       "      <td>15</td>\n",
       "      <td>12</td>\n",
       "    </tr>\n",
       "    <tr>\n",
       "      <th>717</th>\n",
       "      <td>718</td>\n",
       "      <td>ZETA</td>\n",
       "      <td>19</td>\n",
       "      <td>14</td>\n",
       "      <td>17</td>\n",
       "      <td>16</td>\n",
       "      <td>20</td>\n",
       "      <td>19</td>\n",
       "    </tr>\n",
       "  </tbody>\n",
       "</table>\n",
       "<p>716 rows × 8 columns</p>\n",
       "</div>"
      ],
      "text/plain": [
       "     S.NO SECTION  DV  M2  PP BEEE  FL FIMS\n",
       "0       1   ALPHA  12   0  17    9  19   15\n",
       "1       2   ALPHA  19  12  16   16  18    3\n",
       "2       3   ALPHA  18  14  18   18  18   16\n",
       "3       4   ALPHA  15   9  19   17  19   15\n",
       "4       5   ALPHA  18  17  19   19  20   18\n",
       "..    ...     ...  ..  ..  ..  ...  ..  ...\n",
       "713   714    ZETA  19   8   8   19  17   18\n",
       "714   715    ZETA  12   1   7   10  20    8\n",
       "715   716    ZETA  17   6  14   14  17   18\n",
       "716   717    ZETA  12   1   6    7  15   12\n",
       "717   718    ZETA  19  14  17   16  20   19\n",
       "\n",
       "[716 rows x 8 columns]"
      ]
     },
     "execution_count": 12,
     "metadata": {},
     "output_type": "execute_result"
    }
   ],
   "source": [
    "df = df.rename(columns={\"M-II\": \"M2\"})\n",
    "df"
   ]
  },
  {
   "cell_type": "markdown",
   "id": "5c652213",
   "metadata": {},
   "source": [
    " Replace the column name M-II to M2"
   ]
  },
  {
   "cell_type": "code",
   "execution_count": 13,
   "id": "6887ae79",
   "metadata": {},
   "outputs": [
    {
     "data": {
      "text/html": [
       "<div>\n",
       "<style scoped>\n",
       "    .dataframe tbody tr th:only-of-type {\n",
       "        vertical-align: middle;\n",
       "    }\n",
       "\n",
       "    .dataframe tbody tr th {\n",
       "        vertical-align: top;\n",
       "    }\n",
       "\n",
       "    .dataframe thead th {\n",
       "        text-align: right;\n",
       "    }\n",
       "</style>\n",
       "<table border=\"1\" class=\"dataframe\">\n",
       "  <thead>\n",
       "    <tr style=\"text-align: right;\">\n",
       "      <th></th>\n",
       "      <th>S.NO</th>\n",
       "      <th>SECTION</th>\n",
       "      <th>DV</th>\n",
       "      <th>M2</th>\n",
       "      <th>PP</th>\n",
       "      <th>BEEE</th>\n",
       "      <th>FL</th>\n",
       "      <th>FIMS</th>\n",
       "    </tr>\n",
       "  </thead>\n",
       "  <tbody>\n",
       "    <tr>\n",
       "      <th>0</th>\n",
       "      <td>1</td>\n",
       "      <td>ALPHA</td>\n",
       "      <td>12</td>\n",
       "      <td>0</td>\n",
       "      <td>17</td>\n",
       "      <td>9</td>\n",
       "      <td>19</td>\n",
       "      <td>15</td>\n",
       "    </tr>\n",
       "    <tr>\n",
       "      <th>72</th>\n",
       "      <td>73</td>\n",
       "      <td>ALPHA</td>\n",
       "      <td>7</td>\n",
       "      <td>0</td>\n",
       "      <td>15</td>\n",
       "      <td>10</td>\n",
       "      <td>18</td>\n",
       "      <td>11</td>\n",
       "    </tr>\n",
       "    <tr>\n",
       "      <th>82</th>\n",
       "      <td>83</td>\n",
       "      <td>ALPHA</td>\n",
       "      <td>2</td>\n",
       "      <td>0</td>\n",
       "      <td>2</td>\n",
       "      <td>A</td>\n",
       "      <td>A</td>\n",
       "      <td>A</td>\n",
       "    </tr>\n",
       "    <tr>\n",
       "      <th>139</th>\n",
       "      <td>140</td>\n",
       "      <td>BETA</td>\n",
       "      <td>5</td>\n",
       "      <td>0</td>\n",
       "      <td>12</td>\n",
       "      <td>4</td>\n",
       "      <td>20</td>\n",
       "      <td>15</td>\n",
       "    </tr>\n",
       "    <tr>\n",
       "      <th>144</th>\n",
       "      <td>145</td>\n",
       "      <td>BETA</td>\n",
       "      <td>20</td>\n",
       "      <td>0</td>\n",
       "      <td>17</td>\n",
       "      <td>13</td>\n",
       "      <td>10</td>\n",
       "      <td>9</td>\n",
       "    </tr>\n",
       "    <tr>\n",
       "      <th>160</th>\n",
       "      <td>161</td>\n",
       "      <td>BETA</td>\n",
       "      <td>7</td>\n",
       "      <td>0</td>\n",
       "      <td>14</td>\n",
       "      <td>5</td>\n",
       "      <td>10</td>\n",
       "      <td>5</td>\n",
       "    </tr>\n",
       "    <tr>\n",
       "      <th>169</th>\n",
       "      <td>170</td>\n",
       "      <td>BETA</td>\n",
       "      <td>9</td>\n",
       "      <td>0</td>\n",
       "      <td>9</td>\n",
       "      <td>3</td>\n",
       "      <td>10</td>\n",
       "      <td>11</td>\n",
       "    </tr>\n",
       "    <tr>\n",
       "      <th>176</th>\n",
       "      <td>177</td>\n",
       "      <td>BETA</td>\n",
       "      <td>6</td>\n",
       "      <td>0</td>\n",
       "      <td>13</td>\n",
       "      <td>8</td>\n",
       "      <td>18</td>\n",
       "      <td>14</td>\n",
       "    </tr>\n",
       "    <tr>\n",
       "      <th>184</th>\n",
       "      <td>185</td>\n",
       "      <td>DELTA</td>\n",
       "      <td>10</td>\n",
       "      <td>0</td>\n",
       "      <td>5</td>\n",
       "      <td>5</td>\n",
       "      <td>10</td>\n",
       "      <td>10</td>\n",
       "    </tr>\n",
       "    <tr>\n",
       "      <th>187</th>\n",
       "      <td>188</td>\n",
       "      <td>DELTA</td>\n",
       "      <td>8</td>\n",
       "      <td>0</td>\n",
       "      <td>5</td>\n",
       "      <td>3</td>\n",
       "      <td>10</td>\n",
       "      <td>20</td>\n",
       "    </tr>\n",
       "    <tr>\n",
       "      <th>190</th>\n",
       "      <td>191</td>\n",
       "      <td>DELTA</td>\n",
       "      <td>5</td>\n",
       "      <td>0</td>\n",
       "      <td>1</td>\n",
       "      <td>1</td>\n",
       "      <td>10</td>\n",
       "      <td>5</td>\n",
       "    </tr>\n",
       "    <tr>\n",
       "      <th>192</th>\n",
       "      <td>193</td>\n",
       "      <td>DELTA</td>\n",
       "      <td>12</td>\n",
       "      <td>0</td>\n",
       "      <td>5</td>\n",
       "      <td>6</td>\n",
       "      <td>10</td>\n",
       "      <td>16</td>\n",
       "    </tr>\n",
       "    <tr>\n",
       "      <th>194</th>\n",
       "      <td>195</td>\n",
       "      <td>DELTA</td>\n",
       "      <td>6</td>\n",
       "      <td>0</td>\n",
       "      <td>1</td>\n",
       "      <td>0</td>\n",
       "      <td>10</td>\n",
       "      <td>13</td>\n",
       "    </tr>\n",
       "    <tr>\n",
       "      <th>212</th>\n",
       "      <td>213</td>\n",
       "      <td>DELTA</td>\n",
       "      <td>13</td>\n",
       "      <td>0</td>\n",
       "      <td>3</td>\n",
       "      <td>2</td>\n",
       "      <td>10</td>\n",
       "      <td>15</td>\n",
       "    </tr>\n",
       "    <tr>\n",
       "      <th>243</th>\n",
       "      <td>244</td>\n",
       "      <td>DELTA</td>\n",
       "      <td>10</td>\n",
       "      <td>0</td>\n",
       "      <td>11</td>\n",
       "      <td>7</td>\n",
       "      <td>15</td>\n",
       "      <td>15</td>\n",
       "    </tr>\n",
       "    <tr>\n",
       "      <th>260</th>\n",
       "      <td>261</td>\n",
       "      <td>DELTA</td>\n",
       "      <td>8</td>\n",
       "      <td>0</td>\n",
       "      <td>3</td>\n",
       "      <td>A</td>\n",
       "      <td>10</td>\n",
       "      <td>14</td>\n",
       "    </tr>\n",
       "    <tr>\n",
       "      <th>276</th>\n",
       "      <td>277</td>\n",
       "      <td>EPSILON</td>\n",
       "      <td>11</td>\n",
       "      <td>0</td>\n",
       "      <td>5</td>\n",
       "      <td>7</td>\n",
       "      <td>17</td>\n",
       "      <td>14</td>\n",
       "    </tr>\n",
       "    <tr>\n",
       "      <th>289</th>\n",
       "      <td>290</td>\n",
       "      <td>EPSILON</td>\n",
       "      <td>14</td>\n",
       "      <td>0</td>\n",
       "      <td>5</td>\n",
       "      <td>11</td>\n",
       "      <td>8</td>\n",
       "      <td>11</td>\n",
       "    </tr>\n",
       "    <tr>\n",
       "      <th>292</th>\n",
       "      <td>293</td>\n",
       "      <td>EPSILON</td>\n",
       "      <td>17</td>\n",
       "      <td>0</td>\n",
       "      <td>8</td>\n",
       "      <td>17</td>\n",
       "      <td>11</td>\n",
       "      <td>14</td>\n",
       "    </tr>\n",
       "    <tr>\n",
       "      <th>322</th>\n",
       "      <td>323</td>\n",
       "      <td>EPSILON</td>\n",
       "      <td>18</td>\n",
       "      <td>0</td>\n",
       "      <td>3</td>\n",
       "      <td>8</td>\n",
       "      <td>17</td>\n",
       "      <td>3</td>\n",
       "    </tr>\n",
       "    <tr>\n",
       "      <th>324</th>\n",
       "      <td>325</td>\n",
       "      <td>EPSILON</td>\n",
       "      <td>15</td>\n",
       "      <td>0</td>\n",
       "      <td>5</td>\n",
       "      <td>15</td>\n",
       "      <td>13</td>\n",
       "      <td>13</td>\n",
       "    </tr>\n",
       "    <tr>\n",
       "      <th>337</th>\n",
       "      <td>338</td>\n",
       "      <td>EPSILON</td>\n",
       "      <td>5</td>\n",
       "      <td>0</td>\n",
       "      <td>3</td>\n",
       "      <td>11</td>\n",
       "      <td>7</td>\n",
       "      <td>10</td>\n",
       "    </tr>\n",
       "    <tr>\n",
       "      <th>345</th>\n",
       "      <td>346</td>\n",
       "      <td>EPSILON</td>\n",
       "      <td>6</td>\n",
       "      <td>0</td>\n",
       "      <td>1</td>\n",
       "      <td>11</td>\n",
       "      <td>9</td>\n",
       "      <td>4</td>\n",
       "    </tr>\n",
       "    <tr>\n",
       "      <th>350</th>\n",
       "      <td>351</td>\n",
       "      <td>EPSILON</td>\n",
       "      <td>14</td>\n",
       "      <td>0</td>\n",
       "      <td>1</td>\n",
       "      <td>6</td>\n",
       "      <td>6</td>\n",
       "      <td>1</td>\n",
       "    </tr>\n",
       "    <tr>\n",
       "      <th>351</th>\n",
       "      <td>352</td>\n",
       "      <td>EPSILON</td>\n",
       "      <td>12</td>\n",
       "      <td>0</td>\n",
       "      <td>4</td>\n",
       "      <td>15</td>\n",
       "      <td>11</td>\n",
       "      <td>9</td>\n",
       "    </tr>\n",
       "    <tr>\n",
       "      <th>352</th>\n",
       "      <td>353</td>\n",
       "      <td>EPSILON</td>\n",
       "      <td>11</td>\n",
       "      <td>0</td>\n",
       "      <td>2</td>\n",
       "      <td>6</td>\n",
       "      <td>16</td>\n",
       "      <td>10</td>\n",
       "    </tr>\n",
       "    <tr>\n",
       "      <th>357</th>\n",
       "      <td>358</td>\n",
       "      <td>EPSILON</td>\n",
       "      <td>9</td>\n",
       "      <td>0</td>\n",
       "      <td>2</td>\n",
       "      <td>3</td>\n",
       "      <td>11</td>\n",
       "      <td>1</td>\n",
       "    </tr>\n",
       "    <tr>\n",
       "      <th>358</th>\n",
       "      <td>359</td>\n",
       "      <td>GAMMA</td>\n",
       "      <td>6</td>\n",
       "      <td>0</td>\n",
       "      <td>3</td>\n",
       "      <td>3</td>\n",
       "      <td>10</td>\n",
       "      <td>4</td>\n",
       "    </tr>\n",
       "    <tr>\n",
       "      <th>368</th>\n",
       "      <td>369</td>\n",
       "      <td>GAMMA</td>\n",
       "      <td>10</td>\n",
       "      <td>0</td>\n",
       "      <td>4</td>\n",
       "      <td>6</td>\n",
       "      <td>13</td>\n",
       "      <td>9</td>\n",
       "    </tr>\n",
       "    <tr>\n",
       "      <th>374</th>\n",
       "      <td>375</td>\n",
       "      <td>GAMMA</td>\n",
       "      <td>7</td>\n",
       "      <td>0</td>\n",
       "      <td>3</td>\n",
       "      <td>A</td>\n",
       "      <td>13</td>\n",
       "      <td>8</td>\n",
       "    </tr>\n",
       "    <tr>\n",
       "      <th>412</th>\n",
       "      <td>413</td>\n",
       "      <td>GAMMA</td>\n",
       "      <td>8</td>\n",
       "      <td>0</td>\n",
       "      <td>2</td>\n",
       "      <td>6</td>\n",
       "      <td>15</td>\n",
       "      <td>8</td>\n",
       "    </tr>\n",
       "    <tr>\n",
       "      <th>428</th>\n",
       "      <td>429</td>\n",
       "      <td>GAMMA</td>\n",
       "      <td>12</td>\n",
       "      <td>0</td>\n",
       "      <td>6</td>\n",
       "      <td>4</td>\n",
       "      <td>10</td>\n",
       "      <td>9</td>\n",
       "    </tr>\n",
       "    <tr>\n",
       "      <th>441</th>\n",
       "      <td>442</td>\n",
       "      <td>GAMMA</td>\n",
       "      <td>10</td>\n",
       "      <td>0</td>\n",
       "      <td>4</td>\n",
       "      <td>9</td>\n",
       "      <td>15</td>\n",
       "      <td>13</td>\n",
       "    </tr>\n",
       "    <tr>\n",
       "      <th>450</th>\n",
       "      <td>451</td>\n",
       "      <td>OMEGA</td>\n",
       "      <td>9</td>\n",
       "      <td>0</td>\n",
       "      <td>A</td>\n",
       "      <td>A</td>\n",
       "      <td>A</td>\n",
       "      <td>AB</td>\n",
       "    </tr>\n",
       "    <tr>\n",
       "      <th>455</th>\n",
       "      <td>456</td>\n",
       "      <td>OMEGA</td>\n",
       "      <td>16</td>\n",
       "      <td>0</td>\n",
       "      <td>14</td>\n",
       "      <td>6</td>\n",
       "      <td>18</td>\n",
       "      <td>15</td>\n",
       "    </tr>\n",
       "    <tr>\n",
       "      <th>517</th>\n",
       "      <td>518</td>\n",
       "      <td>OMEGA</td>\n",
       "      <td>12</td>\n",
       "      <td>0</td>\n",
       "      <td>7</td>\n",
       "      <td>8</td>\n",
       "      <td>12</td>\n",
       "      <td>10</td>\n",
       "    </tr>\n",
       "    <tr>\n",
       "      <th>525</th>\n",
       "      <td>526</td>\n",
       "      <td>OMEGA</td>\n",
       "      <td>11</td>\n",
       "      <td>0</td>\n",
       "      <td>5</td>\n",
       "      <td>11</td>\n",
       "      <td>17</td>\n",
       "      <td>16</td>\n",
       "    </tr>\n",
       "    <tr>\n",
       "      <th>543</th>\n",
       "      <td>544</td>\n",
       "      <td>SIGMA</td>\n",
       "      <td>10</td>\n",
       "      <td>0</td>\n",
       "      <td>5</td>\n",
       "      <td>9</td>\n",
       "      <td>10</td>\n",
       "      <td>9</td>\n",
       "    </tr>\n",
       "    <tr>\n",
       "      <th>562</th>\n",
       "      <td>563</td>\n",
       "      <td>SIGMA</td>\n",
       "      <td>7</td>\n",
       "      <td>0</td>\n",
       "      <td>A</td>\n",
       "      <td>5</td>\n",
       "      <td>15</td>\n",
       "      <td>16</td>\n",
       "    </tr>\n",
       "    <tr>\n",
       "      <th>563</th>\n",
       "      <td>564</td>\n",
       "      <td>SIGMA</td>\n",
       "      <td>5</td>\n",
       "      <td>0</td>\n",
       "      <td>5</td>\n",
       "      <td>4</td>\n",
       "      <td>10</td>\n",
       "      <td>10</td>\n",
       "    </tr>\n",
       "    <tr>\n",
       "      <th>611</th>\n",
       "      <td>612</td>\n",
       "      <td>SIGMA</td>\n",
       "      <td>2</td>\n",
       "      <td>0</td>\n",
       "      <td>0</td>\n",
       "      <td>3</td>\n",
       "      <td>10</td>\n",
       "      <td>9</td>\n",
       "    </tr>\n",
       "    <tr>\n",
       "      <th>635</th>\n",
       "      <td>636</td>\n",
       "      <td>ZETA</td>\n",
       "      <td>9</td>\n",
       "      <td>0</td>\n",
       "      <td>2</td>\n",
       "      <td>2</td>\n",
       "      <td>3</td>\n",
       "      <td>9</td>\n",
       "    </tr>\n",
       "    <tr>\n",
       "      <th>636</th>\n",
       "      <td>637</td>\n",
       "      <td>ZETA</td>\n",
       "      <td>9</td>\n",
       "      <td>0</td>\n",
       "      <td>5</td>\n",
       "      <td>3</td>\n",
       "      <td>4</td>\n",
       "      <td>5</td>\n",
       "    </tr>\n",
       "    <tr>\n",
       "      <th>637</th>\n",
       "      <td>638</td>\n",
       "      <td>ZETA</td>\n",
       "      <td>12</td>\n",
       "      <td>0</td>\n",
       "      <td>2</td>\n",
       "      <td>4</td>\n",
       "      <td>4</td>\n",
       "      <td>9</td>\n",
       "    </tr>\n",
       "    <tr>\n",
       "      <th>638</th>\n",
       "      <td>639</td>\n",
       "      <td>ZETA</td>\n",
       "      <td>11</td>\n",
       "      <td>0</td>\n",
       "      <td>3</td>\n",
       "      <td>4</td>\n",
       "      <td>4</td>\n",
       "      <td>7</td>\n",
       "    </tr>\n",
       "    <tr>\n",
       "      <th>645</th>\n",
       "      <td>646</td>\n",
       "      <td>ZETA</td>\n",
       "      <td>17</td>\n",
       "      <td>0</td>\n",
       "      <td>7</td>\n",
       "      <td>12</td>\n",
       "      <td>7</td>\n",
       "      <td>10</td>\n",
       "    </tr>\n",
       "    <tr>\n",
       "      <th>649</th>\n",
       "      <td>650</td>\n",
       "      <td>ZETA</td>\n",
       "      <td>11</td>\n",
       "      <td>0</td>\n",
       "      <td>7</td>\n",
       "      <td>9</td>\n",
       "      <td>12</td>\n",
       "      <td>8</td>\n",
       "    </tr>\n",
       "    <tr>\n",
       "      <th>651</th>\n",
       "      <td>652</td>\n",
       "      <td>ZETA</td>\n",
       "      <td>14</td>\n",
       "      <td>0</td>\n",
       "      <td>11</td>\n",
       "      <td>8</td>\n",
       "      <td>8</td>\n",
       "      <td>11</td>\n",
       "    </tr>\n",
       "    <tr>\n",
       "      <th>679</th>\n",
       "      <td>680</td>\n",
       "      <td>ZETA</td>\n",
       "      <td>11</td>\n",
       "      <td>0</td>\n",
       "      <td>8</td>\n",
       "      <td>4</td>\n",
       "      <td>1</td>\n",
       "      <td>11</td>\n",
       "    </tr>\n",
       "    <tr>\n",
       "      <th>705</th>\n",
       "      <td>706</td>\n",
       "      <td>ZETA</td>\n",
       "      <td>16</td>\n",
       "      <td>0</td>\n",
       "      <td>11</td>\n",
       "      <td>16</td>\n",
       "      <td>20</td>\n",
       "      <td>A</td>\n",
       "    </tr>\n",
       "  </tbody>\n",
       "</table>\n",
       "</div>"
      ],
      "text/plain": [
       "     S.NO  SECTION  DV M2  PP BEEE  FL FIMS\n",
       "0       1    ALPHA  12  0  17    9  19   15\n",
       "72     73    ALPHA   7  0  15   10  18   11\n",
       "82     83    ALPHA   2  0   2    A   A    A\n",
       "139   140     BETA   5  0  12    4  20   15\n",
       "144   145     BETA  20  0  17   13  10    9\n",
       "160   161     BETA   7  0  14    5  10    5\n",
       "169   170     BETA   9  0   9    3  10   11\n",
       "176   177     BETA   6  0  13    8  18   14\n",
       "184   185    DELTA  10  0   5    5  10   10\n",
       "187   188    DELTA   8  0   5    3  10   20\n",
       "190   191    DELTA   5  0   1    1  10    5\n",
       "192   193    DELTA  12  0   5    6  10   16\n",
       "194   195    DELTA   6  0   1    0  10   13\n",
       "212   213    DELTA  13  0   3    2  10   15\n",
       "243   244    DELTA  10  0  11    7  15   15\n",
       "260   261    DELTA   8  0   3    A  10   14\n",
       "276   277  EPSILON  11  0   5    7  17   14\n",
       "289   290  EPSILON  14  0   5   11   8   11\n",
       "292   293  EPSILON  17  0   8   17  11   14\n",
       "322   323  EPSILON  18  0   3    8  17    3\n",
       "324   325  EPSILON  15  0   5   15  13   13\n",
       "337   338  EPSILON   5  0   3   11   7   10\n",
       "345   346  EPSILON   6  0   1   11   9    4\n",
       "350   351  EPSILON  14  0   1    6   6    1\n",
       "351   352  EPSILON  12  0   4   15  11    9\n",
       "352   353  EPSILON  11  0   2    6  16   10\n",
       "357   358  EPSILON   9  0   2    3  11    1\n",
       "358   359    GAMMA   6  0   3    3  10    4\n",
       "368   369    GAMMA  10  0   4    6  13    9\n",
       "374   375    GAMMA   7  0   3    A  13    8\n",
       "412   413    GAMMA   8  0   2    6  15    8\n",
       "428   429    GAMMA  12  0   6    4  10    9\n",
       "441   442    GAMMA  10  0   4    9  15   13\n",
       "450   451    OMEGA   9  0   A    A   A   AB\n",
       "455   456    OMEGA  16  0  14    6  18   15\n",
       "517   518    OMEGA  12  0   7    8  12   10\n",
       "525   526    OMEGA  11  0   5   11  17   16\n",
       "543   544    SIGMA  10  0   5    9  10    9\n",
       "562   563    SIGMA   7  0   A    5  15   16\n",
       "563   564    SIGMA   5  0   5    4  10   10\n",
       "611   612    SIGMA   2  0   0    3  10    9\n",
       "635   636     ZETA   9  0   2    2   3    9\n",
       "636   637     ZETA   9  0   5    3   4    5\n",
       "637   638     ZETA  12  0   2    4   4    9\n",
       "638   639     ZETA  11  0   3    4   4    7\n",
       "645   646     ZETA  17  0   7   12   7   10\n",
       "649   650     ZETA  11  0   7    9  12    8\n",
       "651   652     ZETA  14  0  11    8   8   11\n",
       "679   680     ZETA  11  0   8    4   1   11\n",
       "705   706     ZETA  16  0  11   16  20    A"
      ]
     },
     "execution_count": 13,
     "metadata": {},
     "output_type": "execute_result"
    }
   ],
   "source": [
    "df[df.M2==0]"
   ]
  },
  {
   "cell_type": "markdown",
   "id": "0fe77ee3",
   "metadata": {},
   "source": [
    "Filters rows where the M2 column equals 0"
   ]
  },
  {
   "cell_type": "code",
   "execution_count": 14,
   "id": "cebad2a9",
   "metadata": {},
   "outputs": [
    {
     "data": {
      "text/html": [
       "<div>\n",
       "<style scoped>\n",
       "    .dataframe tbody tr th:only-of-type {\n",
       "        vertical-align: middle;\n",
       "    }\n",
       "\n",
       "    .dataframe tbody tr th {\n",
       "        vertical-align: top;\n",
       "    }\n",
       "\n",
       "    .dataframe thead th {\n",
       "        text-align: right;\n",
       "    }\n",
       "</style>\n",
       "<table border=\"1\" class=\"dataframe\">\n",
       "  <thead>\n",
       "    <tr style=\"text-align: right;\">\n",
       "      <th></th>\n",
       "      <th>S.NO</th>\n",
       "      <th>SECTION</th>\n",
       "      <th>DV</th>\n",
       "      <th>M2</th>\n",
       "      <th>PP</th>\n",
       "      <th>BEEE</th>\n",
       "      <th>FL</th>\n",
       "      <th>FIMS</th>\n",
       "    </tr>\n",
       "  </thead>\n",
       "  <tbody>\n",
       "    <tr>\n",
       "      <th>207</th>\n",
       "      <td>208</td>\n",
       "      <td>DELTA</td>\n",
       "      <td>MP</td>\n",
       "      <td>AB</td>\n",
       "      <td>16</td>\n",
       "      <td>10</td>\n",
       "      <td>20</td>\n",
       "      <td>19</td>\n",
       "    </tr>\n",
       "    <tr>\n",
       "      <th>244</th>\n",
       "      <td>245</td>\n",
       "      <td>DELTA</td>\n",
       "      <td>A</td>\n",
       "      <td>AB</td>\n",
       "      <td>AB</td>\n",
       "      <td>A</td>\n",
       "      <td>A</td>\n",
       "      <td>AB</td>\n",
       "    </tr>\n",
       "    <tr>\n",
       "      <th>395</th>\n",
       "      <td>396</td>\n",
       "      <td>GAMMA</td>\n",
       "      <td>A</td>\n",
       "      <td>AB</td>\n",
       "      <td>6</td>\n",
       "      <td>7</td>\n",
       "      <td>13</td>\n",
       "      <td>A</td>\n",
       "    </tr>\n",
       "    <tr>\n",
       "      <th>402</th>\n",
       "      <td>403</td>\n",
       "      <td>GAMMA</td>\n",
       "      <td>A</td>\n",
       "      <td>AB</td>\n",
       "      <td>AB</td>\n",
       "      <td>A</td>\n",
       "      <td>A</td>\n",
       "      <td>A</td>\n",
       "    </tr>\n",
       "    <tr>\n",
       "      <th>414</th>\n",
       "      <td>415</td>\n",
       "      <td>GAMMA</td>\n",
       "      <td>A</td>\n",
       "      <td>AB</td>\n",
       "      <td>AB</td>\n",
       "      <td>A</td>\n",
       "      <td>A</td>\n",
       "      <td>A</td>\n",
       "    </tr>\n",
       "    <tr>\n",
       "      <th>551</th>\n",
       "      <td>552</td>\n",
       "      <td>SIGMA</td>\n",
       "      <td>A</td>\n",
       "      <td>AB</td>\n",
       "      <td>A</td>\n",
       "      <td>A</td>\n",
       "      <td>A</td>\n",
       "      <td>AB</td>\n",
       "    </tr>\n",
       "    <tr>\n",
       "      <th>556</th>\n",
       "      <td>557</td>\n",
       "      <td>SIGMA</td>\n",
       "      <td>A</td>\n",
       "      <td>AB</td>\n",
       "      <td>A</td>\n",
       "      <td>A</td>\n",
       "      <td>A</td>\n",
       "      <td>AB</td>\n",
       "    </tr>\n",
       "  </tbody>\n",
       "</table>\n",
       "</div>"
      ],
      "text/plain": [
       "     S.NO SECTION  DV  M2  PP BEEE  FL FIMS\n",
       "207   208   DELTA  MP  AB  16   10  20   19\n",
       "244   245   DELTA   A  AB  AB    A   A   AB\n",
       "395   396   GAMMA   A  AB   6    7  13    A\n",
       "402   403   GAMMA   A  AB  AB    A   A    A\n",
       "414   415   GAMMA   A  AB  AB    A   A    A\n",
       "551   552   SIGMA   A  AB   A    A   A   AB\n",
       "556   557   SIGMA   A  AB   A    A   A   AB"
      ]
     },
     "execution_count": 14,
     "metadata": {},
     "output_type": "execute_result"
    }
   ],
   "source": [
    "df[df.M2=='AB']"
   ]
  },
  {
   "cell_type": "markdown",
   "id": "749c0d68",
   "metadata": {},
   "source": [
    "Filters rows where the M2 column equals AB"
   ]
  },
  {
   "cell_type": "code",
   "execution_count": 15,
   "id": "45748413",
   "metadata": {},
   "outputs": [
    {
     "data": {
      "text/html": [
       "<div>\n",
       "<style scoped>\n",
       "    .dataframe tbody tr th:only-of-type {\n",
       "        vertical-align: middle;\n",
       "    }\n",
       "\n",
       "    .dataframe tbody tr th {\n",
       "        vertical-align: top;\n",
       "    }\n",
       "\n",
       "    .dataframe thead th {\n",
       "        text-align: right;\n",
       "    }\n",
       "</style>\n",
       "<table border=\"1\" class=\"dataframe\">\n",
       "  <thead>\n",
       "    <tr style=\"text-align: right;\">\n",
       "      <th></th>\n",
       "      <th>S.NO</th>\n",
       "      <th>SECTION</th>\n",
       "      <th>DV</th>\n",
       "      <th>M2</th>\n",
       "      <th>PP</th>\n",
       "      <th>BEEE</th>\n",
       "      <th>FL</th>\n",
       "      <th>FIMS</th>\n",
       "    </tr>\n",
       "  </thead>\n",
       "  <tbody>\n",
       "    <tr>\n",
       "      <th>0</th>\n",
       "      <td>1</td>\n",
       "      <td>ALPHA</td>\n",
       "      <td>12</td>\n",
       "      <td>0</td>\n",
       "      <td>17</td>\n",
       "      <td>9</td>\n",
       "      <td>19</td>\n",
       "      <td>15</td>\n",
       "    </tr>\n",
       "    <tr>\n",
       "      <th>1</th>\n",
       "      <td>2</td>\n",
       "      <td>ALPHA</td>\n",
       "      <td>19</td>\n",
       "      <td>12</td>\n",
       "      <td>16</td>\n",
       "      <td>16</td>\n",
       "      <td>18</td>\n",
       "      <td>3</td>\n",
       "    </tr>\n",
       "    <tr>\n",
       "      <th>2</th>\n",
       "      <td>3</td>\n",
       "      <td>ALPHA</td>\n",
       "      <td>18</td>\n",
       "      <td>14</td>\n",
       "      <td>18</td>\n",
       "      <td>18</td>\n",
       "      <td>18</td>\n",
       "      <td>16</td>\n",
       "    </tr>\n",
       "    <tr>\n",
       "      <th>3</th>\n",
       "      <td>4</td>\n",
       "      <td>ALPHA</td>\n",
       "      <td>15</td>\n",
       "      <td>9</td>\n",
       "      <td>19</td>\n",
       "      <td>17</td>\n",
       "      <td>19</td>\n",
       "      <td>15</td>\n",
       "    </tr>\n",
       "    <tr>\n",
       "      <th>4</th>\n",
       "      <td>5</td>\n",
       "      <td>ALPHA</td>\n",
       "      <td>18</td>\n",
       "      <td>17</td>\n",
       "      <td>19</td>\n",
       "      <td>19</td>\n",
       "      <td>20</td>\n",
       "      <td>18</td>\n",
       "    </tr>\n",
       "    <tr>\n",
       "      <th>...</th>\n",
       "      <td>...</td>\n",
       "      <td>...</td>\n",
       "      <td>...</td>\n",
       "      <td>...</td>\n",
       "      <td>...</td>\n",
       "      <td>...</td>\n",
       "      <td>...</td>\n",
       "      <td>...</td>\n",
       "    </tr>\n",
       "    <tr>\n",
       "      <th>713</th>\n",
       "      <td>714</td>\n",
       "      <td>ZETA</td>\n",
       "      <td>19</td>\n",
       "      <td>8</td>\n",
       "      <td>8</td>\n",
       "      <td>19</td>\n",
       "      <td>17</td>\n",
       "      <td>18</td>\n",
       "    </tr>\n",
       "    <tr>\n",
       "      <th>714</th>\n",
       "      <td>715</td>\n",
       "      <td>ZETA</td>\n",
       "      <td>12</td>\n",
       "      <td>1</td>\n",
       "      <td>7</td>\n",
       "      <td>10</td>\n",
       "      <td>20</td>\n",
       "      <td>8</td>\n",
       "    </tr>\n",
       "    <tr>\n",
       "      <th>715</th>\n",
       "      <td>716</td>\n",
       "      <td>ZETA</td>\n",
       "      <td>17</td>\n",
       "      <td>6</td>\n",
       "      <td>14</td>\n",
       "      <td>14</td>\n",
       "      <td>17</td>\n",
       "      <td>18</td>\n",
       "    </tr>\n",
       "    <tr>\n",
       "      <th>716</th>\n",
       "      <td>717</td>\n",
       "      <td>ZETA</td>\n",
       "      <td>12</td>\n",
       "      <td>1</td>\n",
       "      <td>6</td>\n",
       "      <td>7</td>\n",
       "      <td>15</td>\n",
       "      <td>12</td>\n",
       "    </tr>\n",
       "    <tr>\n",
       "      <th>717</th>\n",
       "      <td>718</td>\n",
       "      <td>ZETA</td>\n",
       "      <td>19</td>\n",
       "      <td>14</td>\n",
       "      <td>17</td>\n",
       "      <td>16</td>\n",
       "      <td>20</td>\n",
       "      <td>19</td>\n",
       "    </tr>\n",
       "  </tbody>\n",
       "</table>\n",
       "<p>716 rows × 8 columns</p>\n",
       "</div>"
      ],
      "text/plain": [
       "     S.NO SECTION  DV  M2  PP BEEE  FL FIMS\n",
       "0       1   ALPHA  12   0  17    9  19   15\n",
       "1       2   ALPHA  19  12  16   16  18    3\n",
       "2       3   ALPHA  18  14  18   18  18   16\n",
       "3       4   ALPHA  15   9  19   17  19   15\n",
       "4       5   ALPHA  18  17  19   19  20   18\n",
       "..    ...     ...  ..  ..  ..  ...  ..  ...\n",
       "713   714    ZETA  19   8   8   19  17   18\n",
       "714   715    ZETA  12   1   7   10  20    8\n",
       "715   716    ZETA  17   6  14   14  17   18\n",
       "716   717    ZETA  12   1   6    7  15   12\n",
       "717   718    ZETA  19  14  17   16  20   19\n",
       "\n",
       "[716 rows x 8 columns]"
      ]
     },
     "execution_count": 15,
     "metadata": {},
     "output_type": "execute_result"
    }
   ],
   "source": [
    "df.replace('AB',0)"
   ]
  },
  {
   "cell_type": "markdown",
   "id": "a4c3b707",
   "metadata": {},
   "source": [
    "Replaces the values from AB to 0 in M2 column"
   ]
  },
  {
   "cell_type": "code",
   "execution_count": 16,
   "id": "76b7ebaa",
   "metadata": {},
   "outputs": [
    {
     "name": "stdout",
     "output_type": "stream",
     "text": [
      "<class 'pandas.core.frame.DataFrame'>\n",
      "Int64Index: 716 entries, 0 to 717\n",
      "Data columns (total 8 columns):\n",
      " #   Column   Non-Null Count  Dtype \n",
      "---  ------   --------------  ----- \n",
      " 0   S.NO     716 non-null    int64 \n",
      " 1   SECTION  716 non-null    object\n",
      " 2   DV       716 non-null    object\n",
      " 3   M2       716 non-null    object\n",
      " 4   PP       716 non-null    object\n",
      " 5   BEEE     716 non-null    object\n",
      " 6   FL       716 non-null    object\n",
      " 7   FIMS     716 non-null    object\n",
      "dtypes: int64(1), object(7)\n",
      "memory usage: 50.3+ KB\n"
     ]
    }
   ],
   "source": [
    "df.info()"
   ]
  },
  {
   "cell_type": "markdown",
   "id": "2d68d815",
   "metadata": {},
   "source": [
    "provides a concise summary of the DataFrame, which includes details about its structure, data types, and non-null values."
   ]
  },
  {
   "cell_type": "code",
   "execution_count": 17,
   "id": "51d90f9a",
   "metadata": {},
   "outputs": [],
   "source": [
    "cols_to_sum = ['DV', 'M2', 'PP', 'BEEE', 'FL', 'FIMS']\n",
    "\n",
    "\n",
    "for col in cols_to_sum:\n",
    "    df[col] = pd.to_numeric(df[col], errors='coerce')\n",
    "\n",
    "\n",
    "df[cols_to_sum] = df[cols_to_sum].fillna(0)\n",
    "\n",
    "\n",
    "df[\"Total\"] = df['DV'] + df['M2'] + df['PP'] + df['BEEE'] + df['FL'] + df['FIMS']"
   ]
  },
  {
   "cell_type": "code",
   "execution_count": 18,
   "id": "28f38092",
   "metadata": {},
   "outputs": [
    {
     "name": "stdout",
     "output_type": "stream",
     "text": [
      "     S.NO SECTION    DV    M2    PP  BEEE    FL  FIMS  Total\n",
      "0       1   ALPHA  12.0   0.0  17.0   9.0  19.0  15.0   72.0\n",
      "1       2   ALPHA  19.0  12.0  16.0  16.0  18.0   3.0   84.0\n",
      "2       3   ALPHA  18.0  14.0  18.0  18.0  18.0  16.0  102.0\n",
      "3       4   ALPHA  15.0   9.0  19.0  17.0  19.0  15.0   94.0\n",
      "4       5   ALPHA  18.0  17.0  19.0  19.0  20.0  18.0  111.0\n",
      "..    ...     ...   ...   ...   ...   ...   ...   ...    ...\n",
      "713   714    ZETA  19.0   8.0   8.0  19.0  17.0  18.0   89.0\n",
      "714   715    ZETA  12.0   1.0   7.0  10.0  20.0   8.0   58.0\n",
      "715   716    ZETA  17.0   6.0  14.0  14.0  17.0  18.0   86.0\n",
      "716   717    ZETA  12.0   1.0   6.0   7.0  15.0  12.0   53.0\n",
      "717   718    ZETA  19.0  14.0  17.0  16.0  20.0  19.0  105.0\n",
      "\n",
      "[716 rows x 9 columns]\n"
     ]
    }
   ],
   "source": [
    "df_rounded = df.round(2)\n",
    "\n",
    "print(df_rounded)"
   ]
  },
  {
   "cell_type": "code",
   "execution_count": 19,
   "id": "15b5b312",
   "metadata": {},
   "outputs": [
    {
     "data": {
      "text/html": [
       "<div>\n",
       "<style scoped>\n",
       "    .dataframe tbody tr th:only-of-type {\n",
       "        vertical-align: middle;\n",
       "    }\n",
       "\n",
       "    .dataframe tbody tr th {\n",
       "        vertical-align: top;\n",
       "    }\n",
       "\n",
       "    .dataframe thead th {\n",
       "        text-align: right;\n",
       "    }\n",
       "</style>\n",
       "<table border=\"1\" class=\"dataframe\">\n",
       "  <thead>\n",
       "    <tr style=\"text-align: right;\">\n",
       "      <th></th>\n",
       "      <th>S.NO</th>\n",
       "      <th>SECTION</th>\n",
       "      <th>DV</th>\n",
       "      <th>M2</th>\n",
       "      <th>PP</th>\n",
       "      <th>BEEE</th>\n",
       "      <th>FL</th>\n",
       "      <th>FIMS</th>\n",
       "      <th>Total</th>\n",
       "    </tr>\n",
       "  </thead>\n",
       "  <tbody>\n",
       "    <tr>\n",
       "      <th>0</th>\n",
       "      <td>1</td>\n",
       "      <td>ALPHA</td>\n",
       "      <td>12.0</td>\n",
       "      <td>0.0</td>\n",
       "      <td>17.0</td>\n",
       "      <td>9.0</td>\n",
       "      <td>19.0</td>\n",
       "      <td>15.0</td>\n",
       "      <td>72.0</td>\n",
       "    </tr>\n",
       "    <tr>\n",
       "      <th>1</th>\n",
       "      <td>2</td>\n",
       "      <td>ALPHA</td>\n",
       "      <td>19.0</td>\n",
       "      <td>12.0</td>\n",
       "      <td>16.0</td>\n",
       "      <td>16.0</td>\n",
       "      <td>18.0</td>\n",
       "      <td>3.0</td>\n",
       "      <td>84.0</td>\n",
       "    </tr>\n",
       "    <tr>\n",
       "      <th>2</th>\n",
       "      <td>3</td>\n",
       "      <td>ALPHA</td>\n",
       "      <td>18.0</td>\n",
       "      <td>14.0</td>\n",
       "      <td>18.0</td>\n",
       "      <td>18.0</td>\n",
       "      <td>18.0</td>\n",
       "      <td>16.0</td>\n",
       "      <td>102.0</td>\n",
       "    </tr>\n",
       "    <tr>\n",
       "      <th>3</th>\n",
       "      <td>4</td>\n",
       "      <td>ALPHA</td>\n",
       "      <td>15.0</td>\n",
       "      <td>9.0</td>\n",
       "      <td>19.0</td>\n",
       "      <td>17.0</td>\n",
       "      <td>19.0</td>\n",
       "      <td>15.0</td>\n",
       "      <td>94.0</td>\n",
       "    </tr>\n",
       "    <tr>\n",
       "      <th>4</th>\n",
       "      <td>5</td>\n",
       "      <td>ALPHA</td>\n",
       "      <td>18.0</td>\n",
       "      <td>17.0</td>\n",
       "      <td>19.0</td>\n",
       "      <td>19.0</td>\n",
       "      <td>20.0</td>\n",
       "      <td>18.0</td>\n",
       "      <td>111.0</td>\n",
       "    </tr>\n",
       "    <tr>\n",
       "      <th>...</th>\n",
       "      <td>...</td>\n",
       "      <td>...</td>\n",
       "      <td>...</td>\n",
       "      <td>...</td>\n",
       "      <td>...</td>\n",
       "      <td>...</td>\n",
       "      <td>...</td>\n",
       "      <td>...</td>\n",
       "      <td>...</td>\n",
       "    </tr>\n",
       "    <tr>\n",
       "      <th>713</th>\n",
       "      <td>714</td>\n",
       "      <td>ZETA</td>\n",
       "      <td>19.0</td>\n",
       "      <td>8.0</td>\n",
       "      <td>8.0</td>\n",
       "      <td>19.0</td>\n",
       "      <td>17.0</td>\n",
       "      <td>18.0</td>\n",
       "      <td>89.0</td>\n",
       "    </tr>\n",
       "    <tr>\n",
       "      <th>714</th>\n",
       "      <td>715</td>\n",
       "      <td>ZETA</td>\n",
       "      <td>12.0</td>\n",
       "      <td>1.0</td>\n",
       "      <td>7.0</td>\n",
       "      <td>10.0</td>\n",
       "      <td>20.0</td>\n",
       "      <td>8.0</td>\n",
       "      <td>58.0</td>\n",
       "    </tr>\n",
       "    <tr>\n",
       "      <th>715</th>\n",
       "      <td>716</td>\n",
       "      <td>ZETA</td>\n",
       "      <td>17.0</td>\n",
       "      <td>6.0</td>\n",
       "      <td>14.0</td>\n",
       "      <td>14.0</td>\n",
       "      <td>17.0</td>\n",
       "      <td>18.0</td>\n",
       "      <td>86.0</td>\n",
       "    </tr>\n",
       "    <tr>\n",
       "      <th>716</th>\n",
       "      <td>717</td>\n",
       "      <td>ZETA</td>\n",
       "      <td>12.0</td>\n",
       "      <td>1.0</td>\n",
       "      <td>6.0</td>\n",
       "      <td>7.0</td>\n",
       "      <td>15.0</td>\n",
       "      <td>12.0</td>\n",
       "      <td>53.0</td>\n",
       "    </tr>\n",
       "    <tr>\n",
       "      <th>717</th>\n",
       "      <td>718</td>\n",
       "      <td>ZETA</td>\n",
       "      <td>19.0</td>\n",
       "      <td>14.0</td>\n",
       "      <td>17.0</td>\n",
       "      <td>16.0</td>\n",
       "      <td>20.0</td>\n",
       "      <td>19.0</td>\n",
       "      <td>105.0</td>\n",
       "    </tr>\n",
       "  </tbody>\n",
       "</table>\n",
       "<p>716 rows × 9 columns</p>\n",
       "</div>"
      ],
      "text/plain": [
       "     S.NO SECTION    DV    M2    PP  BEEE    FL  FIMS  Total\n",
       "0       1   ALPHA  12.0   0.0  17.0   9.0  19.0  15.0   72.0\n",
       "1       2   ALPHA  19.0  12.0  16.0  16.0  18.0   3.0   84.0\n",
       "2       3   ALPHA  18.0  14.0  18.0  18.0  18.0  16.0  102.0\n",
       "3       4   ALPHA  15.0   9.0  19.0  17.0  19.0  15.0   94.0\n",
       "4       5   ALPHA  18.0  17.0  19.0  19.0  20.0  18.0  111.0\n",
       "..    ...     ...   ...   ...   ...   ...   ...   ...    ...\n",
       "713   714    ZETA  19.0   8.0   8.0  19.0  17.0  18.0   89.0\n",
       "714   715    ZETA  12.0   1.0   7.0  10.0  20.0   8.0   58.0\n",
       "715   716    ZETA  17.0   6.0  14.0  14.0  17.0  18.0   86.0\n",
       "716   717    ZETA  12.0   1.0   6.0   7.0  15.0  12.0   53.0\n",
       "717   718    ZETA  19.0  14.0  17.0  16.0  20.0  19.0  105.0\n",
       "\n",
       "[716 rows x 9 columns]"
      ]
     },
     "execution_count": 19,
     "metadata": {},
     "output_type": "execute_result"
    }
   ],
   "source": [
    "df"
   ]
  },
  {
   "cell_type": "code",
   "execution_count": 20,
   "id": "9c2cb9d9",
   "metadata": {},
   "outputs": [
    {
     "data": {
      "text/html": [
       "<div>\n",
       "<style scoped>\n",
       "    .dataframe tbody tr th:only-of-type {\n",
       "        vertical-align: middle;\n",
       "    }\n",
       "\n",
       "    .dataframe tbody tr th {\n",
       "        vertical-align: top;\n",
       "    }\n",
       "\n",
       "    .dataframe thead th {\n",
       "        text-align: right;\n",
       "    }\n",
       "</style>\n",
       "<table border=\"1\" class=\"dataframe\">\n",
       "  <thead>\n",
       "    <tr style=\"text-align: right;\">\n",
       "      <th></th>\n",
       "      <th>S.NO</th>\n",
       "      <th>SECTION</th>\n",
       "      <th>DV</th>\n",
       "      <th>M2</th>\n",
       "      <th>PP</th>\n",
       "      <th>BEEE</th>\n",
       "      <th>FL</th>\n",
       "      <th>FIMS</th>\n",
       "      <th>Total</th>\n",
       "      <th>percentage</th>\n",
       "    </tr>\n",
       "  </thead>\n",
       "  <tbody>\n",
       "    <tr>\n",
       "      <th>0</th>\n",
       "      <td>1</td>\n",
       "      <td>ALPHA</td>\n",
       "      <td>12.0</td>\n",
       "      <td>0.0</td>\n",
       "      <td>17.0</td>\n",
       "      <td>9.0</td>\n",
       "      <td>19.0</td>\n",
       "      <td>15.0</td>\n",
       "      <td>72.0</td>\n",
       "      <td>60.000000</td>\n",
       "    </tr>\n",
       "    <tr>\n",
       "      <th>1</th>\n",
       "      <td>2</td>\n",
       "      <td>ALPHA</td>\n",
       "      <td>19.0</td>\n",
       "      <td>12.0</td>\n",
       "      <td>16.0</td>\n",
       "      <td>16.0</td>\n",
       "      <td>18.0</td>\n",
       "      <td>3.0</td>\n",
       "      <td>84.0</td>\n",
       "      <td>70.000000</td>\n",
       "    </tr>\n",
       "    <tr>\n",
       "      <th>2</th>\n",
       "      <td>3</td>\n",
       "      <td>ALPHA</td>\n",
       "      <td>18.0</td>\n",
       "      <td>14.0</td>\n",
       "      <td>18.0</td>\n",
       "      <td>18.0</td>\n",
       "      <td>18.0</td>\n",
       "      <td>16.0</td>\n",
       "      <td>102.0</td>\n",
       "      <td>85.000000</td>\n",
       "    </tr>\n",
       "    <tr>\n",
       "      <th>3</th>\n",
       "      <td>4</td>\n",
       "      <td>ALPHA</td>\n",
       "      <td>15.0</td>\n",
       "      <td>9.0</td>\n",
       "      <td>19.0</td>\n",
       "      <td>17.0</td>\n",
       "      <td>19.0</td>\n",
       "      <td>15.0</td>\n",
       "      <td>94.0</td>\n",
       "      <td>78.333333</td>\n",
       "    </tr>\n",
       "    <tr>\n",
       "      <th>4</th>\n",
       "      <td>5</td>\n",
       "      <td>ALPHA</td>\n",
       "      <td>18.0</td>\n",
       "      <td>17.0</td>\n",
       "      <td>19.0</td>\n",
       "      <td>19.0</td>\n",
       "      <td>20.0</td>\n",
       "      <td>18.0</td>\n",
       "      <td>111.0</td>\n",
       "      <td>92.500000</td>\n",
       "    </tr>\n",
       "    <tr>\n",
       "      <th>...</th>\n",
       "      <td>...</td>\n",
       "      <td>...</td>\n",
       "      <td>...</td>\n",
       "      <td>...</td>\n",
       "      <td>...</td>\n",
       "      <td>...</td>\n",
       "      <td>...</td>\n",
       "      <td>...</td>\n",
       "      <td>...</td>\n",
       "      <td>...</td>\n",
       "    </tr>\n",
       "    <tr>\n",
       "      <th>713</th>\n",
       "      <td>714</td>\n",
       "      <td>ZETA</td>\n",
       "      <td>19.0</td>\n",
       "      <td>8.0</td>\n",
       "      <td>8.0</td>\n",
       "      <td>19.0</td>\n",
       "      <td>17.0</td>\n",
       "      <td>18.0</td>\n",
       "      <td>89.0</td>\n",
       "      <td>74.166667</td>\n",
       "    </tr>\n",
       "    <tr>\n",
       "      <th>714</th>\n",
       "      <td>715</td>\n",
       "      <td>ZETA</td>\n",
       "      <td>12.0</td>\n",
       "      <td>1.0</td>\n",
       "      <td>7.0</td>\n",
       "      <td>10.0</td>\n",
       "      <td>20.0</td>\n",
       "      <td>8.0</td>\n",
       "      <td>58.0</td>\n",
       "      <td>48.333333</td>\n",
       "    </tr>\n",
       "    <tr>\n",
       "      <th>715</th>\n",
       "      <td>716</td>\n",
       "      <td>ZETA</td>\n",
       "      <td>17.0</td>\n",
       "      <td>6.0</td>\n",
       "      <td>14.0</td>\n",
       "      <td>14.0</td>\n",
       "      <td>17.0</td>\n",
       "      <td>18.0</td>\n",
       "      <td>86.0</td>\n",
       "      <td>71.666667</td>\n",
       "    </tr>\n",
       "    <tr>\n",
       "      <th>716</th>\n",
       "      <td>717</td>\n",
       "      <td>ZETA</td>\n",
       "      <td>12.0</td>\n",
       "      <td>1.0</td>\n",
       "      <td>6.0</td>\n",
       "      <td>7.0</td>\n",
       "      <td>15.0</td>\n",
       "      <td>12.0</td>\n",
       "      <td>53.0</td>\n",
       "      <td>44.166667</td>\n",
       "    </tr>\n",
       "    <tr>\n",
       "      <th>717</th>\n",
       "      <td>718</td>\n",
       "      <td>ZETA</td>\n",
       "      <td>19.0</td>\n",
       "      <td>14.0</td>\n",
       "      <td>17.0</td>\n",
       "      <td>16.0</td>\n",
       "      <td>20.0</td>\n",
       "      <td>19.0</td>\n",
       "      <td>105.0</td>\n",
       "      <td>87.500000</td>\n",
       "    </tr>\n",
       "  </tbody>\n",
       "</table>\n",
       "<p>716 rows × 10 columns</p>\n",
       "</div>"
      ],
      "text/plain": [
       "     S.NO SECTION    DV    M2    PP  BEEE    FL  FIMS  Total  percentage\n",
       "0       1   ALPHA  12.0   0.0  17.0   9.0  19.0  15.0   72.0   60.000000\n",
       "1       2   ALPHA  19.0  12.0  16.0  16.0  18.0   3.0   84.0   70.000000\n",
       "2       3   ALPHA  18.0  14.0  18.0  18.0  18.0  16.0  102.0   85.000000\n",
       "3       4   ALPHA  15.0   9.0  19.0  17.0  19.0  15.0   94.0   78.333333\n",
       "4       5   ALPHA  18.0  17.0  19.0  19.0  20.0  18.0  111.0   92.500000\n",
       "..    ...     ...   ...   ...   ...   ...   ...   ...    ...         ...\n",
       "713   714    ZETA  19.0   8.0   8.0  19.0  17.0  18.0   89.0   74.166667\n",
       "714   715    ZETA  12.0   1.0   7.0  10.0  20.0   8.0   58.0   48.333333\n",
       "715   716    ZETA  17.0   6.0  14.0  14.0  17.0  18.0   86.0   71.666667\n",
       "716   717    ZETA  12.0   1.0   6.0   7.0  15.0  12.0   53.0   44.166667\n",
       "717   718    ZETA  19.0  14.0  17.0  16.0  20.0  19.0  105.0   87.500000\n",
       "\n",
       "[716 rows x 10 columns]"
      ]
     },
     "execution_count": 20,
     "metadata": {},
     "output_type": "execute_result"
    }
   ],
   "source": [
    "df['percentage']=(df['Total']/120)*100\n",
    "df"
   ]
  },
  {
   "cell_type": "code",
   "execution_count": 21,
   "id": "a8aedf70",
   "metadata": {},
   "outputs": [
    {
     "name": "stdout",
     "output_type": "stream",
     "text": [
      "     S.NO SECTION    DV    M2    PP  BEEE    FL  FIMS  Total  percentage Grade\n",
      "0       1   ALPHA  12.0   0.0  17.0   9.0  19.0  15.0   72.0   60.000000     D\n",
      "1       2   ALPHA  19.0  12.0  16.0  16.0  18.0   3.0   84.0   70.000000     C\n",
      "2       3   ALPHA  18.0  14.0  18.0  18.0  18.0  16.0  102.0   85.000000     B\n",
      "3       4   ALPHA  15.0   9.0  19.0  17.0  19.0  15.0   94.0   78.333333     C\n",
      "4       5   ALPHA  18.0  17.0  19.0  19.0  20.0  18.0  111.0   92.500000     A\n",
      "..    ...     ...   ...   ...   ...   ...   ...   ...    ...         ...   ...\n",
      "713   714    ZETA  19.0   8.0   8.0  19.0  17.0  18.0   89.0   74.166667     C\n",
      "714   715    ZETA  12.0   1.0   7.0  10.0  20.0   8.0   58.0   48.333333     F\n",
      "715   716    ZETA  17.0   6.0  14.0  14.0  17.0  18.0   86.0   71.666667     C\n",
      "716   717    ZETA  12.0   1.0   6.0   7.0  15.0  12.0   53.0   44.166667     F\n",
      "717   718    ZETA  19.0  14.0  17.0  16.0  20.0  19.0  105.0   87.500000     B\n",
      "\n",
      "[716 rows x 11 columns]\n"
     ]
    }
   ],
   "source": [
    "def assign_grade(percentage):\n",
    "    if percentage >= 90:\n",
    "        return 'A'\n",
    "    elif percentage >= 80:\n",
    "        return 'B'\n",
    "    elif percentage >= 70:\n",
    "        return 'C'\n",
    "    elif percentage >= 60:\n",
    "        return 'D'\n",
    "    else:\n",
    "        return 'F'\n",
    "\n",
    "# Apply the function to the 'Score' column\n",
    "df['Grade'] = df['percentage'].apply(assign_grade)\n",
    "\n",
    "print(df)"
   ]
  },
  {
   "cell_type": "code",
   "execution_count": 22,
   "id": "a26682dc",
   "metadata": {},
   "outputs": [
    {
     "name": "stdout",
     "output_type": "stream",
     "text": [
      "Index(['S.NO', 'SECTION', 'DV', 'M2', 'PP', 'BEEE', 'FL', 'FIMS', 'Total',\n",
      "       'percentage', 'Grade'],\n",
      "      dtype='object')\n"
     ]
    }
   ],
   "source": [
    "print(df.columns)\n"
   ]
  },
  {
   "cell_type": "code",
   "execution_count": 23,
   "id": "ad6c2fac",
   "metadata": {},
   "outputs": [
    {
     "data": {
      "text/plain": [
       "False    629\n",
       "True      87\n",
       "Name: DV, dtype: int64"
      ]
     },
     "execution_count": 23,
     "metadata": {},
     "output_type": "execute_result"
    }
   ],
   "source": [
    "backlogs_count = df['DV']<10\n",
    "backlogs_count.value_counts()"
   ]
  },
  {
   "cell_type": "code",
   "execution_count": 24,
   "id": "40bffa0d",
   "metadata": {},
   "outputs": [
    {
     "data": {
      "text/plain": [
       "False    525\n",
       "True     191\n",
       "Name: BEEE, dtype: int64"
      ]
     },
     "execution_count": 24,
     "metadata": {},
     "output_type": "execute_result"
    }
   ],
   "source": [
    "backlogs_count1 = df['BEEE']<10\n",
    "backlogs_count1.value_counts()"
   ]
  },
  {
   "cell_type": "code",
   "execution_count": 25,
   "id": "ee936057",
   "metadata": {},
   "outputs": [
    {
     "data": {
      "text/plain": [
       "False    503\n",
       "True     213\n",
       "Name: PP, dtype: int64"
      ]
     },
     "execution_count": 25,
     "metadata": {},
     "output_type": "execute_result"
    }
   ],
   "source": [
    "backlogs_count1 = df['PP']<10\n",
    "backlogs_count1.value_counts()"
   ]
  },
  {
   "cell_type": "code",
   "execution_count": 26,
   "id": "d3fbec94",
   "metadata": {},
   "outputs": [
    {
     "data": {
      "text/plain": [
       "False    369\n",
       "True     347\n",
       "Name: M2, dtype: int64"
      ]
     },
     "execution_count": 26,
     "metadata": {},
     "output_type": "execute_result"
    }
   ],
   "source": [
    "backlogs_count1 = df['M2']<10\n",
    "backlogs_count1.value_counts()"
   ]
  },
  {
   "cell_type": "code",
   "execution_count": 27,
   "id": "d6ef3705",
   "metadata": {},
   "outputs": [
    {
     "data": {
      "text/plain": [
       "False    598\n",
       "True     118\n",
       "Name: FIMS, dtype: int64"
      ]
     },
     "execution_count": 27,
     "metadata": {},
     "output_type": "execute_result"
    }
   ],
   "source": [
    "backlogs_count1 = df['FIMS']<10\n",
    "backlogs_count1.value_counts()"
   ]
  },
  {
   "cell_type": "code",
   "execution_count": 28,
   "id": "669c6b79",
   "metadata": {},
   "outputs": [
    {
     "data": {
      "text/plain": [
       "False    674\n",
       "True      42\n",
       "Name: FL, dtype: int64"
      ]
     },
     "execution_count": 28,
     "metadata": {},
     "output_type": "execute_result"
    }
   ],
   "source": [
    "backlogs_count1 = df['FL']<10\n",
    "backlogs_count1.value_counts()"
   ]
  },
  {
   "cell_type": "code",
   "execution_count": 29,
   "id": "bfa6ec58",
   "metadata": {},
   "outputs": [
    {
     "data": {
      "text/html": [
       "<div>\n",
       "<style scoped>\n",
       "    .dataframe tbody tr th:only-of-type {\n",
       "        vertical-align: middle;\n",
       "    }\n",
       "\n",
       "    .dataframe tbody tr th {\n",
       "        vertical-align: top;\n",
       "    }\n",
       "\n",
       "    .dataframe thead th {\n",
       "        text-align: right;\n",
       "    }\n",
       "</style>\n",
       "<table border=\"1\" class=\"dataframe\">\n",
       "  <thead>\n",
       "    <tr style=\"text-align: right;\">\n",
       "      <th></th>\n",
       "      <th>S.NO</th>\n",
       "      <th>SECTION</th>\n",
       "      <th>DV</th>\n",
       "      <th>M2</th>\n",
       "      <th>PP</th>\n",
       "      <th>BEEE</th>\n",
       "      <th>FL</th>\n",
       "      <th>FIMS</th>\n",
       "      <th>Total</th>\n",
       "      <th>percentage</th>\n",
       "      <th>Grade</th>\n",
       "      <th>BC</th>\n",
       "    </tr>\n",
       "  </thead>\n",
       "  <tbody>\n",
       "    <tr>\n",
       "      <th>0</th>\n",
       "      <td>1</td>\n",
       "      <td>ALPHA</td>\n",
       "      <td>12.0</td>\n",
       "      <td>0.0</td>\n",
       "      <td>17.0</td>\n",
       "      <td>9.0</td>\n",
       "      <td>19.0</td>\n",
       "      <td>15.0</td>\n",
       "      <td>72.0</td>\n",
       "      <td>60.000000</td>\n",
       "      <td>D</td>\n",
       "      <td>None</td>\n",
       "    </tr>\n",
       "    <tr>\n",
       "      <th>1</th>\n",
       "      <td>2</td>\n",
       "      <td>ALPHA</td>\n",
       "      <td>19.0</td>\n",
       "      <td>12.0</td>\n",
       "      <td>16.0</td>\n",
       "      <td>16.0</td>\n",
       "      <td>18.0</td>\n",
       "      <td>3.0</td>\n",
       "      <td>84.0</td>\n",
       "      <td>70.000000</td>\n",
       "      <td>C</td>\n",
       "      <td>None</td>\n",
       "    </tr>\n",
       "    <tr>\n",
       "      <th>2</th>\n",
       "      <td>3</td>\n",
       "      <td>ALPHA</td>\n",
       "      <td>18.0</td>\n",
       "      <td>14.0</td>\n",
       "      <td>18.0</td>\n",
       "      <td>18.0</td>\n",
       "      <td>18.0</td>\n",
       "      <td>16.0</td>\n",
       "      <td>102.0</td>\n",
       "      <td>85.000000</td>\n",
       "      <td>B</td>\n",
       "      <td>None</td>\n",
       "    </tr>\n",
       "    <tr>\n",
       "      <th>3</th>\n",
       "      <td>4</td>\n",
       "      <td>ALPHA</td>\n",
       "      <td>15.0</td>\n",
       "      <td>9.0</td>\n",
       "      <td>19.0</td>\n",
       "      <td>17.0</td>\n",
       "      <td>19.0</td>\n",
       "      <td>15.0</td>\n",
       "      <td>94.0</td>\n",
       "      <td>78.333333</td>\n",
       "      <td>C</td>\n",
       "      <td>None</td>\n",
       "    </tr>\n",
       "    <tr>\n",
       "      <th>4</th>\n",
       "      <td>5</td>\n",
       "      <td>ALPHA</td>\n",
       "      <td>18.0</td>\n",
       "      <td>17.0</td>\n",
       "      <td>19.0</td>\n",
       "      <td>19.0</td>\n",
       "      <td>20.0</td>\n",
       "      <td>18.0</td>\n",
       "      <td>111.0</td>\n",
       "      <td>92.500000</td>\n",
       "      <td>A</td>\n",
       "      <td>None</td>\n",
       "    </tr>\n",
       "    <tr>\n",
       "      <th>...</th>\n",
       "      <td>...</td>\n",
       "      <td>...</td>\n",
       "      <td>...</td>\n",
       "      <td>...</td>\n",
       "      <td>...</td>\n",
       "      <td>...</td>\n",
       "      <td>...</td>\n",
       "      <td>...</td>\n",
       "      <td>...</td>\n",
       "      <td>...</td>\n",
       "      <td>...</td>\n",
       "      <td>...</td>\n",
       "    </tr>\n",
       "    <tr>\n",
       "      <th>713</th>\n",
       "      <td>714</td>\n",
       "      <td>ZETA</td>\n",
       "      <td>19.0</td>\n",
       "      <td>8.0</td>\n",
       "      <td>8.0</td>\n",
       "      <td>19.0</td>\n",
       "      <td>17.0</td>\n",
       "      <td>18.0</td>\n",
       "      <td>89.0</td>\n",
       "      <td>74.166667</td>\n",
       "      <td>C</td>\n",
       "      <td>None</td>\n",
       "    </tr>\n",
       "    <tr>\n",
       "      <th>714</th>\n",
       "      <td>715</td>\n",
       "      <td>ZETA</td>\n",
       "      <td>12.0</td>\n",
       "      <td>1.0</td>\n",
       "      <td>7.0</td>\n",
       "      <td>10.0</td>\n",
       "      <td>20.0</td>\n",
       "      <td>8.0</td>\n",
       "      <td>58.0</td>\n",
       "      <td>48.333333</td>\n",
       "      <td>F</td>\n",
       "      <td>None</td>\n",
       "    </tr>\n",
       "    <tr>\n",
       "      <th>715</th>\n",
       "      <td>716</td>\n",
       "      <td>ZETA</td>\n",
       "      <td>17.0</td>\n",
       "      <td>6.0</td>\n",
       "      <td>14.0</td>\n",
       "      <td>14.0</td>\n",
       "      <td>17.0</td>\n",
       "      <td>18.0</td>\n",
       "      <td>86.0</td>\n",
       "      <td>71.666667</td>\n",
       "      <td>C</td>\n",
       "      <td>None</td>\n",
       "    </tr>\n",
       "    <tr>\n",
       "      <th>716</th>\n",
       "      <td>717</td>\n",
       "      <td>ZETA</td>\n",
       "      <td>12.0</td>\n",
       "      <td>1.0</td>\n",
       "      <td>6.0</td>\n",
       "      <td>7.0</td>\n",
       "      <td>15.0</td>\n",
       "      <td>12.0</td>\n",
       "      <td>53.0</td>\n",
       "      <td>44.166667</td>\n",
       "      <td>F</td>\n",
       "      <td>None</td>\n",
       "    </tr>\n",
       "    <tr>\n",
       "      <th>717</th>\n",
       "      <td>718</td>\n",
       "      <td>ZETA</td>\n",
       "      <td>19.0</td>\n",
       "      <td>14.0</td>\n",
       "      <td>17.0</td>\n",
       "      <td>16.0</td>\n",
       "      <td>20.0</td>\n",
       "      <td>19.0</td>\n",
       "      <td>105.0</td>\n",
       "      <td>87.500000</td>\n",
       "      <td>B</td>\n",
       "      <td>None</td>\n",
       "    </tr>\n",
       "  </tbody>\n",
       "</table>\n",
       "<p>716 rows × 12 columns</p>\n",
       "</div>"
      ],
      "text/plain": [
       "     S.NO SECTION    DV    M2    PP  BEEE    FL  FIMS  Total  percentage  \\\n",
       "0       1   ALPHA  12.0   0.0  17.0   9.0  19.0  15.0   72.0   60.000000   \n",
       "1       2   ALPHA  19.0  12.0  16.0  16.0  18.0   3.0   84.0   70.000000   \n",
       "2       3   ALPHA  18.0  14.0  18.0  18.0  18.0  16.0  102.0   85.000000   \n",
       "3       4   ALPHA  15.0   9.0  19.0  17.0  19.0  15.0   94.0   78.333333   \n",
       "4       5   ALPHA  18.0  17.0  19.0  19.0  20.0  18.0  111.0   92.500000   \n",
       "..    ...     ...   ...   ...   ...   ...   ...   ...    ...         ...   \n",
       "713   714    ZETA  19.0   8.0   8.0  19.0  17.0  18.0   89.0   74.166667   \n",
       "714   715    ZETA  12.0   1.0   7.0  10.0  20.0   8.0   58.0   48.333333   \n",
       "715   716    ZETA  17.0   6.0  14.0  14.0  17.0  18.0   86.0   71.666667   \n",
       "716   717    ZETA  12.0   1.0   6.0   7.0  15.0  12.0   53.0   44.166667   \n",
       "717   718    ZETA  19.0  14.0  17.0  16.0  20.0  19.0  105.0   87.500000   \n",
       "\n",
       "    Grade    BC  \n",
       "0       D  None  \n",
       "1       C  None  \n",
       "2       B  None  \n",
       "3       C  None  \n",
       "4       A  None  \n",
       "..    ...   ...  \n",
       "713     C  None  \n",
       "714     F  None  \n",
       "715     C  None  \n",
       "716     F  None  \n",
       "717     B  None  \n",
       "\n",
       "[716 rows x 12 columns]"
      ]
     },
     "execution_count": 29,
     "metadata": {},
     "output_type": "execute_result"
    }
   ],
   "source": [
    "df['BC']=None\n",
    "df"
   ]
  },
  {
   "cell_type": "code",
   "execution_count": 30,
   "id": "d0680a9b",
   "metadata": {},
   "outputs": [
    {
     "name": "stdout",
     "output_type": "stream",
     "text": [
      "None\n",
      "None\n",
      "None\n",
      "None\n",
      "None\n",
      "None\n",
      "None\n",
      "None\n",
      "None\n",
      "None\n",
      "None\n",
      "None\n",
      "None\n",
      "None\n",
      "None\n",
      "None\n",
      "None\n",
      "None\n",
      "None\n",
      "None\n",
      "None\n",
      "None\n",
      "None\n",
      "None\n",
      "None\n",
      "None\n",
      "None\n",
      "None\n",
      "None\n",
      "None\n",
      "None\n",
      "None\n",
      "None\n",
      "None\n",
      "None\n",
      "None\n",
      "None\n",
      "None\n",
      "None\n",
      "None\n",
      "None\n",
      "None\n",
      "None\n",
      "None\n",
      "None\n",
      "None\n",
      "None\n",
      "None\n",
      "None\n",
      "None\n",
      "None\n",
      "None\n",
      "None\n",
      "None\n",
      "None\n",
      "None\n",
      "None\n",
      "None\n",
      "None\n",
      "None\n",
      "None\n",
      "None\n",
      "None\n",
      "None\n",
      "None\n",
      "None\n",
      "None\n",
      "None\n",
      "None\n",
      "None\n",
      "None\n",
      "None\n",
      "None\n",
      "None\n",
      "None\n",
      "None\n",
      "None\n",
      "None\n",
      "None\n",
      "None\n",
      "None\n",
      "None\n",
      "None\n",
      "None\n",
      "None\n",
      "None\n",
      "None\n",
      "None\n",
      "None\n",
      "None\n",
      "None\n",
      "None\n",
      "None\n",
      "None\n",
      "None\n",
      "None\n",
      "None\n",
      "None\n",
      "None\n",
      "None\n",
      "None\n",
      "None\n",
      "None\n",
      "None\n",
      "None\n",
      "None\n",
      "None\n",
      "None\n",
      "None\n",
      "None\n",
      "None\n",
      "None\n",
      "None\n",
      "None\n",
      "None\n",
      "None\n",
      "None\n",
      "None\n",
      "None\n",
      "None\n",
      "None\n",
      "None\n",
      "None\n",
      "None\n",
      "None\n",
      "None\n",
      "None\n",
      "None\n",
      "None\n",
      "None\n",
      "None\n",
      "None\n",
      "None\n",
      "None\n",
      "None\n",
      "None\n",
      "None\n",
      "None\n",
      "None\n",
      "None\n",
      "None\n",
      "None\n",
      "None\n",
      "None\n",
      "None\n",
      "None\n",
      "None\n",
      "None\n",
      "None\n",
      "None\n",
      "None\n",
      "None\n",
      "None\n",
      "None\n",
      "None\n",
      "None\n",
      "None\n",
      "None\n",
      "None\n",
      "None\n",
      "None\n",
      "None\n",
      "None\n",
      "None\n",
      "None\n",
      "None\n",
      "None\n",
      "None\n",
      "None\n",
      "None\n",
      "None\n",
      "None\n",
      "None\n",
      "None\n",
      "None\n",
      "None\n",
      "None\n",
      "None\n",
      "None\n",
      "None\n",
      "None\n",
      "None\n",
      "None\n",
      "None\n",
      "None\n",
      "None\n",
      "None\n",
      "None\n",
      "None\n",
      "None\n",
      "None\n",
      "None\n",
      "None\n",
      "None\n",
      "None\n",
      "None\n",
      "None\n",
      "None\n",
      "None\n",
      "None\n",
      "None\n",
      "None\n",
      "None\n",
      "None\n",
      "None\n",
      "None\n",
      "None\n",
      "None\n",
      "None\n",
      "None\n",
      "None\n",
      "None\n",
      "None\n"
     ]
    },
    {
     "ename": "KeyError",
     "evalue": "564",
     "output_type": "error",
     "traceback": [
      "\u001b[1;31m---------------------------------------------------------------------------\u001b[0m",
      "\u001b[1;31mKeyError\u001b[0m                                  Traceback (most recent call last)",
      "File \u001b[1;32mC:\\ProgramData\\anaconda3\\Lib\\site-packages\\pandas\\core\\indexes\\base.py:3802\u001b[0m, in \u001b[0;36mIndex.get_loc\u001b[1;34m(self, key, method, tolerance)\u001b[0m\n\u001b[0;32m   3801\u001b[0m \u001b[38;5;28;01mtry\u001b[39;00m:\n\u001b[1;32m-> 3802\u001b[0m     \u001b[38;5;28;01mreturn\u001b[39;00m \u001b[38;5;28mself\u001b[39m\u001b[38;5;241m.\u001b[39m_engine\u001b[38;5;241m.\u001b[39mget_loc(casted_key)\n\u001b[0;32m   3803\u001b[0m \u001b[38;5;28;01mexcept\u001b[39;00m \u001b[38;5;167;01mKeyError\u001b[39;00m \u001b[38;5;28;01mas\u001b[39;00m err:\n",
      "File \u001b[1;32mC:\\ProgramData\\anaconda3\\Lib\\site-packages\\pandas\\_libs\\index.pyx:138\u001b[0m, in \u001b[0;36mpandas._libs.index.IndexEngine.get_loc\u001b[1;34m()\u001b[0m\n",
      "File \u001b[1;32mC:\\ProgramData\\anaconda3\\Lib\\site-packages\\pandas\\_libs\\index.pyx:165\u001b[0m, in \u001b[0;36mpandas._libs.index.IndexEngine.get_loc\u001b[1;34m()\u001b[0m\n",
      "File \u001b[1;32mpandas\\_libs\\hashtable_class_helper.pxi:2263\u001b[0m, in \u001b[0;36mpandas._libs.hashtable.Int64HashTable.get_item\u001b[1;34m()\u001b[0m\n",
      "File \u001b[1;32mpandas\\_libs\\hashtable_class_helper.pxi:2273\u001b[0m, in \u001b[0;36mpandas._libs.hashtable.Int64HashTable.get_item\u001b[1;34m()\u001b[0m\n",
      "\u001b[1;31mKeyError\u001b[0m: 564",
      "\nThe above exception was the direct cause of the following exception:\n",
      "\u001b[1;31mKeyError\u001b[0m                                  Traceback (most recent call last)",
      "Cell \u001b[1;32mIn[30], line 7\u001b[0m\n\u001b[0;32m      4\u001b[0m df[\u001b[38;5;124m'\u001b[39m\u001b[38;5;124mBC\u001b[39m\u001b[38;5;124m'\u001b[39m] \u001b[38;5;241m=\u001b[39m \u001b[38;5;241m0\u001b[39m  \u001b[38;5;66;03m# Initialize the 'BC' column with 0\u001b[39;00m\n\u001b[0;32m      6\u001b[0m \u001b[38;5;28;01mfor\u001b[39;00m i \u001b[38;5;129;01min\u001b[39;00m \u001b[38;5;28mrange\u001b[39m(\u001b[38;5;28mlen\u001b[39m(df)):\n\u001b[1;32m----> 7\u001b[0m     \u001b[38;5;28;01mif\u001b[39;00m df\u001b[38;5;241m.\u001b[39mloc[i, \u001b[38;5;124m'\u001b[39m\u001b[38;5;124mDV\u001b[39m\u001b[38;5;124m'\u001b[39m] \u001b[38;5;241m<\u001b[39m \u001b[38;5;241m10\u001b[39m:\n\u001b[0;32m      8\u001b[0m         df\u001b[38;5;241m.\u001b[39mloc[i, \u001b[38;5;124m'\u001b[39m\u001b[38;5;124mBC\u001b[39m\u001b[38;5;124m'\u001b[39m] \u001b[38;5;241m+\u001b[39m\u001b[38;5;241m=\u001b[39m \u001b[38;5;241m1\u001b[39m  \u001b[38;5;66;03m# Update the 'BC' column for the i-th row\u001b[39;00m\n\u001b[0;32m      9\u001b[0m     \u001b[38;5;28;01melif\u001b[39;00m df\u001b[38;5;241m.\u001b[39mloc[i, \u001b[38;5;124m'\u001b[39m\u001b[38;5;124mM2\u001b[39m\u001b[38;5;124m'\u001b[39m] \u001b[38;5;241m<\u001b[39m \u001b[38;5;241m10\u001b[39m:\n",
      "File \u001b[1;32mC:\\ProgramData\\anaconda3\\Lib\\site-packages\\pandas\\core\\indexing.py:1066\u001b[0m, in \u001b[0;36m_LocationIndexer.__getitem__\u001b[1;34m(self, key)\u001b[0m\n\u001b[0;32m   1064\u001b[0m     key \u001b[38;5;241m=\u001b[39m \u001b[38;5;28mtuple\u001b[39m(com\u001b[38;5;241m.\u001b[39mapply_if_callable(x, \u001b[38;5;28mself\u001b[39m\u001b[38;5;241m.\u001b[39mobj) \u001b[38;5;28;01mfor\u001b[39;00m x \u001b[38;5;129;01min\u001b[39;00m key)\n\u001b[0;32m   1065\u001b[0m     \u001b[38;5;28;01mif\u001b[39;00m \u001b[38;5;28mself\u001b[39m\u001b[38;5;241m.\u001b[39m_is_scalar_access(key):\n\u001b[1;32m-> 1066\u001b[0m         \u001b[38;5;28;01mreturn\u001b[39;00m \u001b[38;5;28mself\u001b[39m\u001b[38;5;241m.\u001b[39mobj\u001b[38;5;241m.\u001b[39m_get_value(\u001b[38;5;241m*\u001b[39mkey, takeable\u001b[38;5;241m=\u001b[39m\u001b[38;5;28mself\u001b[39m\u001b[38;5;241m.\u001b[39m_takeable)\n\u001b[0;32m   1067\u001b[0m     \u001b[38;5;28;01mreturn\u001b[39;00m \u001b[38;5;28mself\u001b[39m\u001b[38;5;241m.\u001b[39m_getitem_tuple(key)\n\u001b[0;32m   1068\u001b[0m \u001b[38;5;28;01melse\u001b[39;00m:\n\u001b[0;32m   1069\u001b[0m     \u001b[38;5;66;03m# we by definition only have the 0th axis\u001b[39;00m\n",
      "File \u001b[1;32mC:\\ProgramData\\anaconda3\\Lib\\site-packages\\pandas\\core\\frame.py:3924\u001b[0m, in \u001b[0;36mDataFrame._get_value\u001b[1;34m(self, index, col, takeable)\u001b[0m\n\u001b[0;32m   3918\u001b[0m engine \u001b[38;5;241m=\u001b[39m \u001b[38;5;28mself\u001b[39m\u001b[38;5;241m.\u001b[39mindex\u001b[38;5;241m.\u001b[39m_engine\n\u001b[0;32m   3920\u001b[0m \u001b[38;5;28;01mif\u001b[39;00m \u001b[38;5;129;01mnot\u001b[39;00m \u001b[38;5;28misinstance\u001b[39m(\u001b[38;5;28mself\u001b[39m\u001b[38;5;241m.\u001b[39mindex, MultiIndex):\n\u001b[0;32m   3921\u001b[0m     \u001b[38;5;66;03m# CategoricalIndex: Trying to use the engine fastpath may give incorrect\u001b[39;00m\n\u001b[0;32m   3922\u001b[0m     \u001b[38;5;66;03m#  results if our categories are integers that dont match our codes\u001b[39;00m\n\u001b[0;32m   3923\u001b[0m     \u001b[38;5;66;03m# IntervalIndex: IntervalTree has no get_loc\u001b[39;00m\n\u001b[1;32m-> 3924\u001b[0m     row \u001b[38;5;241m=\u001b[39m \u001b[38;5;28mself\u001b[39m\u001b[38;5;241m.\u001b[39mindex\u001b[38;5;241m.\u001b[39mget_loc(index)\n\u001b[0;32m   3925\u001b[0m     \u001b[38;5;28;01mreturn\u001b[39;00m series\u001b[38;5;241m.\u001b[39m_values[row]\n\u001b[0;32m   3927\u001b[0m \u001b[38;5;66;03m# For MultiIndex going through engine effectively restricts us to\u001b[39;00m\n\u001b[0;32m   3928\u001b[0m \u001b[38;5;66;03m#  same-length tuples; see test_get_set_value_no_partial_indexing\u001b[39;00m\n",
      "File \u001b[1;32mC:\\ProgramData\\anaconda3\\Lib\\site-packages\\pandas\\core\\indexes\\base.py:3804\u001b[0m, in \u001b[0;36mIndex.get_loc\u001b[1;34m(self, key, method, tolerance)\u001b[0m\n\u001b[0;32m   3802\u001b[0m     \u001b[38;5;28;01mreturn\u001b[39;00m \u001b[38;5;28mself\u001b[39m\u001b[38;5;241m.\u001b[39m_engine\u001b[38;5;241m.\u001b[39mget_loc(casted_key)\n\u001b[0;32m   3803\u001b[0m \u001b[38;5;28;01mexcept\u001b[39;00m \u001b[38;5;167;01mKeyError\u001b[39;00m \u001b[38;5;28;01mas\u001b[39;00m err:\n\u001b[1;32m-> 3804\u001b[0m     \u001b[38;5;28;01mraise\u001b[39;00m \u001b[38;5;167;01mKeyError\u001b[39;00m(key) \u001b[38;5;28;01mfrom\u001b[39;00m \u001b[38;5;21;01merr\u001b[39;00m\n\u001b[0;32m   3805\u001b[0m \u001b[38;5;28;01mexcept\u001b[39;00m \u001b[38;5;167;01mTypeError\u001b[39;00m:\n\u001b[0;32m   3806\u001b[0m     \u001b[38;5;66;03m# If we have a listlike key, _check_indexing_error will raise\u001b[39;00m\n\u001b[0;32m   3807\u001b[0m     \u001b[38;5;66;03m#  InvalidIndexError. Otherwise we fall through and re-raise\u001b[39;00m\n\u001b[0;32m   3808\u001b[0m     \u001b[38;5;66;03m#  the TypeError.\u001b[39;00m\n\u001b[0;32m   3809\u001b[0m     \u001b[38;5;28mself\u001b[39m\u001b[38;5;241m.\u001b[39m_check_indexing_error(key)\n",
      "\u001b[1;31mKeyError\u001b[0m: 564"
     ]
    }
   ],
   "source": [
    "import pandas as pd\n",
    "\n",
    "# Assuming df is your DataFrame\n",
    "df['BC'] = 0  # Initialize the 'BC' column with 0\n",
    "\n",
    "for i in range(len(df)):\n",
    "    if df.loc[i, 'DV'] < 10:\n",
    "        df.loc[i, 'BC'] += 1  # Update the 'BC' column for the i-th row\n",
    "    elif df.loc[i, 'M2'] < 10:\n",
    "        df.loc[i, 'BC'] += 1\n",
    "    elif df.loc[i, 'PP'] < 10:\n",
    "        df.loc[i, 'BC'] += 1\n",
    "    elif df.loc[i, 'BEEE'] < 10:\n",
    "        df.loc[i, 'BC'] += 1\n",
    "    elif df.loc[i, 'FL'] < 10:\n",
    "        df.loc[i, 'BC'] += 1\n",
    "    elif df.loc[i, 'FIMS'] < 10:\n",
    "        df.loc[i, 'BC'] += 1\n",
    "    else:\n",
    "        print(None)"
   ]
  },
  {
   "cell_type": "code",
   "execution_count": null,
   "id": "61e0cd0c",
   "metadata": {},
   "outputs": [],
   "source": [
    "BC=[]\n",
    "for i in range(len(df)):\n",
    "    count = 0\n",
    "    if(df.DV[i]<10):\n",
    "        count+=1\n",
    "    if(df.M2[i]<10):\n",
    "        count+=1\n",
    "    if(df.PP[i]<10):\n",
    "        count+=1\n",
    "    if(df.BEEE[i]<10):\n",
    "        count+=1\n",
    "    if(df.FL[i]<10):\n",
    "        count+=1\n",
    "    if(df.FIMS[i]<10):\n",
    "        count+=1\n",
    "    BC.append(count)\n",
    "\n",
    "df['BC']=BC\n",
    "df"
   ]
  },
  {
   "cell_type": "code",
   "execution_count": 31,
   "id": "4f6825ce",
   "metadata": {},
   "outputs": [
    {
     "data": {
      "text/plain": [
       "0    365\n",
       "1    351\n",
       "Name: BC, dtype: int64"
      ]
     },
     "execution_count": 31,
     "metadata": {},
     "output_type": "execute_result"
    }
   ],
   "source": [
    "df[\"BC\"].value_counts()\n",
    " "
   ]
  },
  {
   "cell_type": "code",
   "execution_count": 32,
   "id": "8b9562fa",
   "metadata": {},
   "outputs": [
    {
     "data": {
      "text/plain": [
       "20.0    69\n",
       "0.0     62\n",
       "3.0     51\n",
       "17.0    42\n",
       "8.0     41\n",
       "1.0     37\n",
       "15.0    35\n",
       "11.0    33\n",
       "12.0    31\n",
       "6.0     31\n",
       "4.0     30\n",
       "10.0    29\n",
       "18.0    29\n",
       "5.0     29\n",
       "19.0    28\n",
       "13.0    26\n",
       "9.0     25\n",
       "14.0    25\n",
       "16.0    22\n",
       "7.0     22\n",
       "2.0     19\n",
       "Name: M2, dtype: int64"
      ]
     },
     "execution_count": 32,
     "metadata": {},
     "output_type": "execute_result"
    }
   ],
   "source": [
    "df.M2.value_counts()"
   ]
  },
  {
   "cell_type": "code",
   "execution_count": 33,
   "id": "a5af7abc",
   "metadata": {},
   "outputs": [
    {
     "data": {
      "text/html": [
       "<div>\n",
       "<style scoped>\n",
       "    .dataframe tbody tr th:only-of-type {\n",
       "        vertical-align: middle;\n",
       "    }\n",
       "\n",
       "    .dataframe tbody tr th {\n",
       "        vertical-align: top;\n",
       "    }\n",
       "\n",
       "    .dataframe thead th {\n",
       "        text-align: right;\n",
       "    }\n",
       "</style>\n",
       "<table border=\"1\" class=\"dataframe\">\n",
       "  <thead>\n",
       "    <tr style=\"text-align: right;\">\n",
       "      <th></th>\n",
       "      <th>S.NO</th>\n",
       "      <th>SECTION</th>\n",
       "      <th>DV</th>\n",
       "      <th>M2</th>\n",
       "      <th>PP</th>\n",
       "      <th>BEEE</th>\n",
       "      <th>FL</th>\n",
       "      <th>FIMS</th>\n",
       "      <th>Total</th>\n",
       "      <th>percentage</th>\n",
       "      <th>Grade</th>\n",
       "      <th>BC</th>\n",
       "    </tr>\n",
       "  </thead>\n",
       "  <tbody>\n",
       "    <tr>\n",
       "      <th>0</th>\n",
       "      <td>1</td>\n",
       "      <td>ALPHA</td>\n",
       "      <td>12.0</td>\n",
       "      <td>0.0</td>\n",
       "      <td>17.0</td>\n",
       "      <td>9.0</td>\n",
       "      <td>19.0</td>\n",
       "      <td>15.0</td>\n",
       "      <td>72.0</td>\n",
       "      <td>60.000000</td>\n",
       "      <td>D</td>\n",
       "      <td>1</td>\n",
       "    </tr>\n",
       "    <tr>\n",
       "      <th>1</th>\n",
       "      <td>2</td>\n",
       "      <td>ALPHA</td>\n",
       "      <td>19.0</td>\n",
       "      <td>12.0</td>\n",
       "      <td>16.0</td>\n",
       "      <td>16.0</td>\n",
       "      <td>18.0</td>\n",
       "      <td>3.0</td>\n",
       "      <td>84.0</td>\n",
       "      <td>70.000000</td>\n",
       "      <td>C</td>\n",
       "      <td>1</td>\n",
       "    </tr>\n",
       "    <tr>\n",
       "      <th>2</th>\n",
       "      <td>3</td>\n",
       "      <td>ALPHA</td>\n",
       "      <td>18.0</td>\n",
       "      <td>14.0</td>\n",
       "      <td>18.0</td>\n",
       "      <td>18.0</td>\n",
       "      <td>18.0</td>\n",
       "      <td>16.0</td>\n",
       "      <td>102.0</td>\n",
       "      <td>85.000000</td>\n",
       "      <td>B</td>\n",
       "      <td>0</td>\n",
       "    </tr>\n",
       "    <tr>\n",
       "      <th>3</th>\n",
       "      <td>4</td>\n",
       "      <td>ALPHA</td>\n",
       "      <td>15.0</td>\n",
       "      <td>9.0</td>\n",
       "      <td>19.0</td>\n",
       "      <td>17.0</td>\n",
       "      <td>19.0</td>\n",
       "      <td>15.0</td>\n",
       "      <td>94.0</td>\n",
       "      <td>78.333333</td>\n",
       "      <td>C</td>\n",
       "      <td>1</td>\n",
       "    </tr>\n",
       "    <tr>\n",
       "      <th>4</th>\n",
       "      <td>5</td>\n",
       "      <td>ALPHA</td>\n",
       "      <td>18.0</td>\n",
       "      <td>17.0</td>\n",
       "      <td>19.0</td>\n",
       "      <td>19.0</td>\n",
       "      <td>20.0</td>\n",
       "      <td>18.0</td>\n",
       "      <td>111.0</td>\n",
       "      <td>92.500000</td>\n",
       "      <td>A</td>\n",
       "      <td>0</td>\n",
       "    </tr>\n",
       "    <tr>\n",
       "      <th>...</th>\n",
       "      <td>...</td>\n",
       "      <td>...</td>\n",
       "      <td>...</td>\n",
       "      <td>...</td>\n",
       "      <td>...</td>\n",
       "      <td>...</td>\n",
       "      <td>...</td>\n",
       "      <td>...</td>\n",
       "      <td>...</td>\n",
       "      <td>...</td>\n",
       "      <td>...</td>\n",
       "      <td>...</td>\n",
       "    </tr>\n",
       "    <tr>\n",
       "      <th>713</th>\n",
       "      <td>714</td>\n",
       "      <td>ZETA</td>\n",
       "      <td>19.0</td>\n",
       "      <td>8.0</td>\n",
       "      <td>8.0</td>\n",
       "      <td>19.0</td>\n",
       "      <td>17.0</td>\n",
       "      <td>18.0</td>\n",
       "      <td>89.0</td>\n",
       "      <td>74.166667</td>\n",
       "      <td>C</td>\n",
       "      <td>0</td>\n",
       "    </tr>\n",
       "    <tr>\n",
       "      <th>714</th>\n",
       "      <td>715</td>\n",
       "      <td>ZETA</td>\n",
       "      <td>12.0</td>\n",
       "      <td>1.0</td>\n",
       "      <td>7.0</td>\n",
       "      <td>10.0</td>\n",
       "      <td>20.0</td>\n",
       "      <td>8.0</td>\n",
       "      <td>58.0</td>\n",
       "      <td>48.333333</td>\n",
       "      <td>F</td>\n",
       "      <td>0</td>\n",
       "    </tr>\n",
       "    <tr>\n",
       "      <th>715</th>\n",
       "      <td>716</td>\n",
       "      <td>ZETA</td>\n",
       "      <td>17.0</td>\n",
       "      <td>6.0</td>\n",
       "      <td>14.0</td>\n",
       "      <td>14.0</td>\n",
       "      <td>17.0</td>\n",
       "      <td>18.0</td>\n",
       "      <td>86.0</td>\n",
       "      <td>71.666667</td>\n",
       "      <td>C</td>\n",
       "      <td>0</td>\n",
       "    </tr>\n",
       "    <tr>\n",
       "      <th>716</th>\n",
       "      <td>717</td>\n",
       "      <td>ZETA</td>\n",
       "      <td>12.0</td>\n",
       "      <td>1.0</td>\n",
       "      <td>6.0</td>\n",
       "      <td>7.0</td>\n",
       "      <td>15.0</td>\n",
       "      <td>12.0</td>\n",
       "      <td>53.0</td>\n",
       "      <td>44.166667</td>\n",
       "      <td>F</td>\n",
       "      <td>0</td>\n",
       "    </tr>\n",
       "    <tr>\n",
       "      <th>717</th>\n",
       "      <td>718</td>\n",
       "      <td>ZETA</td>\n",
       "      <td>19.0</td>\n",
       "      <td>14.0</td>\n",
       "      <td>17.0</td>\n",
       "      <td>16.0</td>\n",
       "      <td>20.0</td>\n",
       "      <td>19.0</td>\n",
       "      <td>105.0</td>\n",
       "      <td>87.500000</td>\n",
       "      <td>B</td>\n",
       "      <td>0</td>\n",
       "    </tr>\n",
       "  </tbody>\n",
       "</table>\n",
       "<p>716 rows × 12 columns</p>\n",
       "</div>"
      ],
      "text/plain": [
       "     S.NO SECTION    DV    M2    PP  BEEE    FL  FIMS  Total  percentage  \\\n",
       "0       1   ALPHA  12.0   0.0  17.0   9.0  19.0  15.0   72.0   60.000000   \n",
       "1       2   ALPHA  19.0  12.0  16.0  16.0  18.0   3.0   84.0   70.000000   \n",
       "2       3   ALPHA  18.0  14.0  18.0  18.0  18.0  16.0  102.0   85.000000   \n",
       "3       4   ALPHA  15.0   9.0  19.0  17.0  19.0  15.0   94.0   78.333333   \n",
       "4       5   ALPHA  18.0  17.0  19.0  19.0  20.0  18.0  111.0   92.500000   \n",
       "..    ...     ...   ...   ...   ...   ...   ...   ...    ...         ...   \n",
       "713   714    ZETA  19.0   8.0   8.0  19.0  17.0  18.0   89.0   74.166667   \n",
       "714   715    ZETA  12.0   1.0   7.0  10.0  20.0   8.0   58.0   48.333333   \n",
       "715   716    ZETA  17.0   6.0  14.0  14.0  17.0  18.0   86.0   71.666667   \n",
       "716   717    ZETA  12.0   1.0   6.0   7.0  15.0  12.0   53.0   44.166667   \n",
       "717   718    ZETA  19.0  14.0  17.0  16.0  20.0  19.0  105.0   87.500000   \n",
       "\n",
       "    Grade  BC  \n",
       "0       D   1  \n",
       "1       C   1  \n",
       "2       B   0  \n",
       "3       C   1  \n",
       "4       A   0  \n",
       "..    ...  ..  \n",
       "713     C   0  \n",
       "714     F   0  \n",
       "715     C   0  \n",
       "716     F   0  \n",
       "717     B   0  \n",
       "\n",
       "[716 rows x 12 columns]"
      ]
     },
     "execution_count": 33,
     "metadata": {},
     "output_type": "execute_result"
    }
   ],
   "source": [
    "df.replace('AB',0)"
   ]
  },
  {
   "cell_type": "code",
   "execution_count": 34,
   "id": "4e4b1558",
   "metadata": {},
   "outputs": [
    {
     "data": {
      "text/plain": [
       "20.0    69\n",
       "0.0     62\n",
       "3.0     51\n",
       "17.0    42\n",
       "8.0     41\n",
       "1.0     37\n",
       "15.0    35\n",
       "11.0    33\n",
       "12.0    31\n",
       "6.0     31\n",
       "4.0     30\n",
       "10.0    29\n",
       "18.0    29\n",
       "5.0     29\n",
       "19.0    28\n",
       "13.0    26\n",
       "9.0     25\n",
       "14.0    25\n",
       "16.0    22\n",
       "7.0     22\n",
       "2.0     19\n",
       "Name: M2, dtype: int64"
      ]
     },
     "execution_count": 34,
     "metadata": {},
     "output_type": "execute_result"
    }
   ],
   "source": [
    "df.M2.value_counts()"
   ]
  },
  {
   "cell_type": "code",
   "execution_count": 35,
   "id": "b6f59bba",
   "metadata": {},
   "outputs": [
    {
     "name": "stdout",
     "output_type": "stream",
     "text": [
      "<class 'pandas.core.series.Series'>\n",
      "Int64Index: 716 entries, 0 to 717\n",
      "Series name: BC\n",
      "Non-Null Count  Dtype\n",
      "--------------  -----\n",
      "716 non-null    int64\n",
      "dtypes: int64(1)\n",
      "memory usage: 27.4 KB\n"
     ]
    }
   ],
   "source": [
    "df[\"BC\"].info()"
   ]
  },
  {
   "cell_type": "code",
   "execution_count": 36,
   "id": "5735955e",
   "metadata": {},
   "outputs": [
    {
     "data": {
      "text/plain": [
       "count    716.000000\n",
       "mean       0.490223\n",
       "std        0.500254\n",
       "min        0.000000\n",
       "25%        0.000000\n",
       "50%        0.000000\n",
       "75%        1.000000\n",
       "max        1.000000\n",
       "Name: BC, dtype: float64"
      ]
     },
     "execution_count": 36,
     "metadata": {},
     "output_type": "execute_result"
    }
   ],
   "source": [
    "df[\"BC\"].describe()"
   ]
  },
  {
   "cell_type": "code",
   "execution_count": 37,
   "id": "c7809004",
   "metadata": {},
   "outputs": [
    {
     "data": {
      "image/png": "[encoded data removed]",
      "text/plain": [
       "<Figure size 640x480 with 1 Axes>"
      ]
     },
     "metadata": {},
     "output_type": "display_data"
    }
   ],
   "source": [
    "import matplotlib.pyplot as plt\n",
    "df.plot()\n",
    "plt.show()"
   ]
  },
  {
   "cell_type": "code",
   "execution_count": 38,
   "id": "e9e73478",
   "metadata": {},
   "outputs": [
    {
     "data": {
      "text/html": [
       "<div>\n",
       "<style scoped>\n",
       "    .dataframe tbody tr th:only-of-type {\n",
       "        vertical-align: middle;\n",
       "    }\n",
       "\n",
       "    .dataframe tbody tr th {\n",
       "        vertical-align: top;\n",
       "    }\n",
       "\n",
       "    .dataframe thead th {\n",
       "        text-align: right;\n",
       "    }\n",
       "</style>\n",
       "<table border=\"1\" class=\"dataframe\">\n",
       "  <thead>\n",
       "    <tr style=\"text-align: right;\">\n",
       "      <th></th>\n",
       "      <th>S.NO</th>\n",
       "      <th>SECTION</th>\n",
       "      <th>DV</th>\n",
       "      <th>M2</th>\n",
       "      <th>PP</th>\n",
       "      <th>BEEE</th>\n",
       "      <th>FL</th>\n",
       "      <th>FIMS</th>\n",
       "      <th>Total</th>\n",
       "      <th>percentage</th>\n",
       "      <th>Grade</th>\n",
       "      <th>BC</th>\n",
       "    </tr>\n",
       "  </thead>\n",
       "  <tbody>\n",
       "    <tr>\n",
       "      <th>0</th>\n",
       "      <td>1</td>\n",
       "      <td>ALPHA</td>\n",
       "      <td>12.0</td>\n",
       "      <td>0.0</td>\n",
       "      <td>17.0</td>\n",
       "      <td>9.0</td>\n",
       "      <td>19.0</td>\n",
       "      <td>15.0</td>\n",
       "      <td>72.0</td>\n",
       "      <td>60.000000</td>\n",
       "      <td>D</td>\n",
       "      <td>1</td>\n",
       "    </tr>\n",
       "    <tr>\n",
       "      <th>1</th>\n",
       "      <td>2</td>\n",
       "      <td>ALPHA</td>\n",
       "      <td>19.0</td>\n",
       "      <td>12.0</td>\n",
       "      <td>16.0</td>\n",
       "      <td>16.0</td>\n",
       "      <td>18.0</td>\n",
       "      <td>3.0</td>\n",
       "      <td>84.0</td>\n",
       "      <td>70.000000</td>\n",
       "      <td>C</td>\n",
       "      <td>1</td>\n",
       "    </tr>\n",
       "    <tr>\n",
       "      <th>2</th>\n",
       "      <td>3</td>\n",
       "      <td>ALPHA</td>\n",
       "      <td>18.0</td>\n",
       "      <td>14.0</td>\n",
       "      <td>18.0</td>\n",
       "      <td>18.0</td>\n",
       "      <td>18.0</td>\n",
       "      <td>16.0</td>\n",
       "      <td>102.0</td>\n",
       "      <td>85.000000</td>\n",
       "      <td>B</td>\n",
       "      <td>0</td>\n",
       "    </tr>\n",
       "    <tr>\n",
       "      <th>3</th>\n",
       "      <td>4</td>\n",
       "      <td>ALPHA</td>\n",
       "      <td>15.0</td>\n",
       "      <td>9.0</td>\n",
       "      <td>19.0</td>\n",
       "      <td>17.0</td>\n",
       "      <td>19.0</td>\n",
       "      <td>15.0</td>\n",
       "      <td>94.0</td>\n",
       "      <td>78.333333</td>\n",
       "      <td>C</td>\n",
       "      <td>1</td>\n",
       "    </tr>\n",
       "    <tr>\n",
       "      <th>4</th>\n",
       "      <td>5</td>\n",
       "      <td>ALPHA</td>\n",
       "      <td>18.0</td>\n",
       "      <td>17.0</td>\n",
       "      <td>19.0</td>\n",
       "      <td>19.0</td>\n",
       "      <td>20.0</td>\n",
       "      <td>18.0</td>\n",
       "      <td>111.0</td>\n",
       "      <td>92.500000</td>\n",
       "      <td>A</td>\n",
       "      <td>0</td>\n",
       "    </tr>\n",
       "    <tr>\n",
       "      <th>...</th>\n",
       "      <td>...</td>\n",
       "      <td>...</td>\n",
       "      <td>...</td>\n",
       "      <td>...</td>\n",
       "      <td>...</td>\n",
       "      <td>...</td>\n",
       "      <td>...</td>\n",
       "      <td>...</td>\n",
       "      <td>...</td>\n",
       "      <td>...</td>\n",
       "      <td>...</td>\n",
       "      <td>...</td>\n",
       "    </tr>\n",
       "    <tr>\n",
       "      <th>713</th>\n",
       "      <td>714</td>\n",
       "      <td>ZETA</td>\n",
       "      <td>19.0</td>\n",
       "      <td>8.0</td>\n",
       "      <td>8.0</td>\n",
       "      <td>19.0</td>\n",
       "      <td>17.0</td>\n",
       "      <td>18.0</td>\n",
       "      <td>89.0</td>\n",
       "      <td>74.166667</td>\n",
       "      <td>C</td>\n",
       "      <td>0</td>\n",
       "    </tr>\n",
       "    <tr>\n",
       "      <th>714</th>\n",
       "      <td>715</td>\n",
       "      <td>ZETA</td>\n",
       "      <td>12.0</td>\n",
       "      <td>1.0</td>\n",
       "      <td>7.0</td>\n",
       "      <td>10.0</td>\n",
       "      <td>20.0</td>\n",
       "      <td>8.0</td>\n",
       "      <td>58.0</td>\n",
       "      <td>48.333333</td>\n",
       "      <td>F</td>\n",
       "      <td>0</td>\n",
       "    </tr>\n",
       "    <tr>\n",
       "      <th>715</th>\n",
       "      <td>716</td>\n",
       "      <td>ZETA</td>\n",
       "      <td>17.0</td>\n",
       "      <td>6.0</td>\n",
       "      <td>14.0</td>\n",
       "      <td>14.0</td>\n",
       "      <td>17.0</td>\n",
       "      <td>18.0</td>\n",
       "      <td>86.0</td>\n",
       "      <td>71.666667</td>\n",
       "      <td>C</td>\n",
       "      <td>0</td>\n",
       "    </tr>\n",
       "    <tr>\n",
       "      <th>716</th>\n",
       "      <td>717</td>\n",
       "      <td>ZETA</td>\n",
       "      <td>12.0</td>\n",
       "      <td>1.0</td>\n",
       "      <td>6.0</td>\n",
       "      <td>7.0</td>\n",
       "      <td>15.0</td>\n",
       "      <td>12.0</td>\n",
       "      <td>53.0</td>\n",
       "      <td>44.166667</td>\n",
       "      <td>F</td>\n",
       "      <td>0</td>\n",
       "    </tr>\n",
       "    <tr>\n",
       "      <th>717</th>\n",
       "      <td>718</td>\n",
       "      <td>ZETA</td>\n",
       "      <td>19.0</td>\n",
       "      <td>14.0</td>\n",
       "      <td>17.0</td>\n",
       "      <td>16.0</td>\n",
       "      <td>20.0</td>\n",
       "      <td>19.0</td>\n",
       "      <td>105.0</td>\n",
       "      <td>87.500000</td>\n",
       "      <td>B</td>\n",
       "      <td>0</td>\n",
       "    </tr>\n",
       "  </tbody>\n",
       "</table>\n",
       "<p>716 rows × 12 columns</p>\n",
       "</div>"
      ],
      "text/plain": [
       "     S.NO SECTION    DV    M2    PP  BEEE    FL  FIMS  Total  percentage  \\\n",
       "0       1   ALPHA  12.0   0.0  17.0   9.0  19.0  15.0   72.0   60.000000   \n",
       "1       2   ALPHA  19.0  12.0  16.0  16.0  18.0   3.0   84.0   70.000000   \n",
       "2       3   ALPHA  18.0  14.0  18.0  18.0  18.0  16.0  102.0   85.000000   \n",
       "3       4   ALPHA  15.0   9.0  19.0  17.0  19.0  15.0   94.0   78.333333   \n",
       "4       5   ALPHA  18.0  17.0  19.0  19.0  20.0  18.0  111.0   92.500000   \n",
       "..    ...     ...   ...   ...   ...   ...   ...   ...    ...         ...   \n",
       "713   714    ZETA  19.0   8.0   8.0  19.0  17.0  18.0   89.0   74.166667   \n",
       "714   715    ZETA  12.0   1.0   7.0  10.0  20.0   8.0   58.0   48.333333   \n",
       "715   716    ZETA  17.0   6.0  14.0  14.0  17.0  18.0   86.0   71.666667   \n",
       "716   717    ZETA  12.0   1.0   6.0   7.0  15.0  12.0   53.0   44.166667   \n",
       "717   718    ZETA  19.0  14.0  17.0  16.0  20.0  19.0  105.0   87.500000   \n",
       "\n",
       "    Grade  BC  \n",
       "0       D   1  \n",
       "1       C   1  \n",
       "2       B   0  \n",
       "3       C   1  \n",
       "4       A   0  \n",
       "..    ...  ..  \n",
       "713     C   0  \n",
       "714     F   0  \n",
       "715     C   0  \n",
       "716     F   0  \n",
       "717     B   0  \n",
       "\n",
       "[716 rows x 12 columns]"
      ]
     },
     "execution_count": 38,
     "metadata": {},
     "output_type": "execute_result"
    }
   ],
   "source": [
    "df['percentage']=(df['Total']/120)*100\n",
    "df"
   ]
  },
  {
   "cell_type": "code",
   "execution_count": 39,
   "id": "f66f7766",
   "metadata": {},
   "outputs": [
    {
     "name": "stdout",
     "output_type": "stream",
     "text": [
      "     S.NO SECTION    DV    M2    PP  BEEE    FL  FIMS  Total  percentage  \\\n",
      "0       1   ALPHA  12.0   0.0  17.0   9.0  19.0  15.0   72.0   60.000000   \n",
      "1       2   ALPHA  19.0  12.0  16.0  16.0  18.0   3.0   84.0   70.000000   \n",
      "2       3   ALPHA  18.0  14.0  18.0  18.0  18.0  16.0  102.0   85.000000   \n",
      "3       4   ALPHA  15.0   9.0  19.0  17.0  19.0  15.0   94.0   78.333333   \n",
      "4       5   ALPHA  18.0  17.0  19.0  19.0  20.0  18.0  111.0   92.500000   \n",
      "..    ...     ...   ...   ...   ...   ...   ...   ...    ...         ...   \n",
      "713   714    ZETA  19.0   8.0   8.0  19.0  17.0  18.0   89.0   74.166667   \n",
      "714   715    ZETA  12.0   1.0   7.0  10.0  20.0   8.0   58.0   48.333333   \n",
      "715   716    ZETA  17.0   6.0  14.0  14.0  17.0  18.0   86.0   71.666667   \n",
      "716   717    ZETA  12.0   1.0   6.0   7.0  15.0  12.0   53.0   44.166667   \n",
      "717   718    ZETA  19.0  14.0  17.0  16.0  20.0  19.0  105.0   87.500000   \n",
      "\n",
      "    Grade  BC  \n",
      "0       D   1  \n",
      "1       C   1  \n",
      "2       B   0  \n",
      "3       C   1  \n",
      "4       A   0  \n",
      "..    ...  ..  \n",
      "713     C   0  \n",
      "714     F   0  \n",
      "715     C   0  \n",
      "716     F   0  \n",
      "717     B   0  \n",
      "\n",
      "[716 rows x 12 columns]\n"
     ]
    }
   ],
   "source": [
    "def assign_grade(percentage):\n",
    "    if percentage >= 90:\n",
    "        return 'A'\n",
    "    elif percentage >= 80:\n",
    "        return 'B'\n",
    "    elif percentage >= 70:\n",
    "        return 'C'\n",
    "    elif percentage >= 60:\n",
    "        return 'D'\n",
    "    else:\n",
    "        return 'F'\n",
    "\n",
    "\n",
    "df['Grade'] = df['percentage'].apply(assign_grade)\n",
    "\n",
    "print(df)"
   ]
  },
  {
   "cell_type": "code",
   "execution_count": 40,
   "id": "880fead9",
   "metadata": {},
   "outputs": [
    {
     "data": {
      "image/png": "[encoded data removed]",
      "text/plain": [
       "<Figure size 640x480 with 1 Axes>"
      ]
     },
     "metadata": {},
     "output_type": "display_data"
    }
   ],
   "source": [
    "import seaborn as sns \n",
    "import pandas as pd\n",
    "import matplotlib.pyplot as plt \n",
    "sns.stripplot(data=df, x='SECTION', y='FL', hue='Grade')\n",
    "plt.title('FL Scores by Section')\n",
    "plt.show()"
   ]
  },
  {
   "cell_type": "code",
   "execution_count": 41,
   "id": "a19ba075",
   "metadata": {},
   "outputs": [
    {
     "data": {
      "image/png": "[encoded data removed]",
      "text/plain": [
       "<Figure size 640x480 with 1 Axes>"
      ]
     },
     "metadata": {},
     "output_type": "display_data"
    }
   ],
   "source": [
    "sns.stripplot(data=df, x='SECTION', y='BEEE', hue='Grade')\n",
    "plt.title('BEEE Scores by Section')\n",
    "plt.show()"
   ]
  },
  {
   "cell_type": "code",
   "execution_count": 42,
   "id": "af2b46b2",
   "metadata": {},
   "outputs": [
    {
     "data": {
      "image/png": "[encoded data removed]",
      "text/plain": [
       "<Figure size 640x480 with 1 Axes>"
      ]
     },
     "metadata": {},
     "output_type": "display_data"
    }
   ],
   "source": [
    "sns.histplot(df['percentage'], bins=10, kde=True)\n",
    "plt.title('Distribution of Percentages')\n",
    "plt.show()"
   ]
  },
  {
   "cell_type": "code",
   "execution_count": 43,
   "id": "b521eddb",
   "metadata": {},
   "outputs": [
    {
     "data": {
      "image/png": "[encoded data removed]",
      "text/plain": [
       "<Figure size 640x480 with 1 Axes>"
      ]
     },
     "metadata": {},
     "output_type": "display_data"
    }
   ],
   "source": [
    "sns.histplot(df['percentage'], bins=10)\n",
    "plt.title('Distribution of Percentages')\n",
    "plt.show()"
   ]
  },
  {
   "cell_type": "code",
   "execution_count": 44,
   "id": "4d99e561",
   "metadata": {},
   "outputs": [
    {
     "data": {
      "image/png": "[encoded data removed]",
      "text/plain": [
       "<Figure size 640x480 with 1 Axes>"
      ]
     },
     "metadata": {},
     "output_type": "display_data"
    }
   ],
   "source": [
    "sns.boxplot(data=df[['DV', 'M2', 'PP', 'BEEE', 'FL', 'FIMS']],palette=\"Set2\")\n",
    "plt.title('Box Plot for Subject Scores')\n",
    "plt.ylabel('Scores')\n",
    "plt.show()"
   ]
  },
  {
   "cell_type": "code",
   "execution_count": 45,
   "id": "aae7b182",
   "metadata": {},
   "outputs": [
    {
     "data": {
      "image/png": "[encoded data removed]",
      "text/plain": [
       "<Figure size 640x480 with 1 Axes>"
      ]
     },
     "metadata": {},
     "output_type": "display_data"
    }
   ],
   "source": [
    "sns.scatterplot(data=df, x='Total', y='percentage', hue='Grade')\n",
    "plt.title('Total vs Percentage')\n",
    "plt.show()"
   ]
  },
  {
   "cell_type": "code",
   "execution_count": 46,
   "id": "bd981e05",
   "metadata": {},
   "outputs": [
    {
     "data": {
      "image/png": "[encoded data removed]",
      "text/plain": [
       "<Figure size 640x480 with 1 Axes>"
      ]
     },
     "metadata": {},
     "output_type": "display_data"
    }
   ],
   "source": [
    "sns.barplot(data=df, x='SECTION', y='Total' )\n",
    "plt.title('Average Total Score')\n",
    "plt.show()"
   ]
  },
  {
   "cell_type": "code",
   "execution_count": 47,
   "id": "d40b9b65",
   "metadata": {},
   "outputs": [
    {
     "data": {
      "image/png": "[encoded data removed]",
      "text/plain": [
       "<Figure size 640x480 with 1 Axes>"
      ]
     },
     "metadata": {},
     "output_type": "display_data"
    }
   ],
   "source": [
    "sns.countplot(data=df, x='Grade')\n",
    "plt.title('Grade Distribution')\n",
    "plt.show()"
   ]
  },
  {
   "cell_type": "code",
   "execution_count": 48,
   "id": "6780dad3",
   "metadata": {},
   "outputs": [
    {
     "data": {
      "text/plain": [
       "Text(0.5, 1.0, 'Histogram of DV')"
      ]
     },
     "execution_count": 48,
     "metadata": {},
     "output_type": "execute_result"
    },
    {
     "data": {
      "image/png": "[encoded data removed]",
      "text/plain": [
       "<Figure size 640x480 with 1 Axes>"
      ]
     },
     "metadata": {},
     "output_type": "display_data"
    }
   ],
   "source": [
    "\n",
    "plt.hist(df['DV'],color='blue',edgecolor='black',bins=9)\n",
    "plt.xlabel(\"Marks scored in DV\")\n",
    "plt.ylabel(\"No.of students\")\n",
    "plt.title(\"Histogram of DV\")"
   ]
  },
  {
   "cell_type": "markdown",
   "id": "2911594c",
   "metadata": {},
   "source": [
    "Creates a histogram  on the data in the DV column "
   ]
  },
  {
   "cell_type": "code",
   "execution_count": 49,
   "id": "4ede3a17",
   "metadata": {},
   "outputs": [
    {
     "data": {
      "text/plain": [
       "Text(0.5, 1.0, 'Histogram of M2')"
      ]
     },
     "execution_count": 49,
     "metadata": {},
     "output_type": "execute_result"
    },
    {
     "data": {
      "image/png": "[encoded data removed]",
      "text/plain": [
       "<Figure size 640x480 with 1 Axes>"
      ]
     },
     "metadata": {},
     "output_type": "display_data"
    }
   ],
   "source": [
    "df['M2']\n",
    "plt.hist(df['M2'],color='cyan',edgecolor='black',bins=7)\n",
    "plt.xlabel(\"Marks scored in M2\")\n",
    "plt.ylabel(\"No.of students\")\n",
    "plt.title(\"Histogram of M2\")"
   ]
  },
  {
   "cell_type": "code",
   "execution_count": 50,
   "id": "e49f37fb",
   "metadata": {},
   "outputs": [
    {
     "data": {
      "text/plain": [
       "Text(0.5, 1.0, 'Histogram of PP')"
      ]
     },
     "execution_count": 50,
     "metadata": {},
     "output_type": "execute_result"
    },
    {
     "data": {
      "image/png": "[encoded data removed]",
      "text/plain": [
       "<Figure size 640x480 with 1 Axes>"
      ]
     },
     "metadata": {},
     "output_type": "display_data"
    }
   ],
   "source": [
    "df['PP']\n",
    "plt.hist(df['PP'],color='lightblue',edgecolor='black',bins=8)\n",
    "plt.xlabel(\"Marks scored in PP\")\n",
    "plt.ylabel(\"No.of students\")\n",
    "plt.title(\"Histogram of PP\")"
   ]
  },
  {
   "cell_type": "code",
   "execution_count": 51,
   "id": "44a1d5e3",
   "metadata": {},
   "outputs": [
    {
     "data": {
      "text/plain": [
       "Text(0.5, 1.0, 'Histogram of BEEE')"
      ]
     },
     "execution_count": 51,
     "metadata": {},
     "output_type": "execute_result"
    },
    {
     "data": {
      "image/png": "[encoded data removed]",
      "text/plain": [
       "<Figure size 640x480 with 1 Axes>"
      ]
     },
     "metadata": {},
     "output_type": "display_data"
    }
   ],
   "source": [
    "df['BEEE']\n",
    "plt.hist(df['BEEE'],color='Magenta',edgecolor='black',bins=5)\n",
    "plt.xlabel(\"Marks scored in BEEE\")\n",
    "plt.ylabel(\"No.of students\")\n",
    "plt.title(\"Histogram of BEEE\")"
   ]
  },
  {
   "cell_type": "code",
   "execution_count": 52,
   "id": "7b7ad046",
   "metadata": {},
   "outputs": [
    {
     "data": {
      "text/plain": [
       "Text(0.5, 1.0, 'Histogram of FL')"
      ]
     },
     "execution_count": 52,
     "metadata": {},
     "output_type": "execute_result"
    },
    {
     "data": {
      "image/png": "[encoded data removed]",
      "text/plain": [
       "<Figure size 640x480 with 1 Axes>"
      ]
     },
     "metadata": {},
     "output_type": "display_data"
    }
   ],
   "source": [
    "df['FL']\n",
    "plt.hist(df['FL'],color='yellow',edgecolor='black',bins=4)\n",
    "plt.xlabel(\"Marks scored in FL\")\n",
    "plt.ylabel(\"No.of students\")\n",
    "plt.title(\"Histogram of FL\")"
   ]
  },
  {
   "cell_type": "code",
   "execution_count": 53,
   "id": "bf4115b3",
   "metadata": {},
   "outputs": [
    {
     "data": {
      "text/plain": [
       "Text(0.5, 1.0, 'Histogram of FIMS')"
      ]
     },
     "execution_count": 53,
     "metadata": {},
     "output_type": "execute_result"
    },
    {
     "data": {
      "image/png": "[encoded data removed]",
      "text/plain": [
       "<Figure size 640x480 with 1 Axes>"
      ]
     },
     "metadata": {},
     "output_type": "display_data"
    }
   ],
   "source": [
    "df['FIMS']\n",
    "plt.hist(df['FIMS'],color='orange',edgecolor='green',bins=6)\n",
    "plt.xlabel(\"Marks scored in FIMS\")\n",
    "plt.ylabel(\"No.of students\")\n",
    "plt.title(\"Histogram of FIMS\")"
   ]
  },
  {
   "cell_type": "code",
   "execution_count": 54,
   "id": "70a848b3",
   "metadata": {},
   "outputs": [
    {
     "data": {
      "image/png": "[encoded data removed]",
      "text/plain": [
       "<Figure size 640x480 with 1 Axes>"
      ]
     },
     "metadata": {},
     "output_type": "display_data"
    }
   ],
   "source": [
    "data = {'M2': [1, 2, 3, 4, 5, 6, 7], 'SECTION': ['ALPHA', 'BETA', 'GAMMA', 'DELTA', 'SIGMA' , 'ZETA', 'EPSILON']}\n",
    "df = pd.DataFrame(data)\n",
    "if not pd.api.types.is_numeric_dtype(df['SECTION']):\n",
    "    df['SECTION'] = pd.Categorical(df['SECTION']).codes\n",
    "df.plot.scatter(x='M2', y='SECTION', color='red', s=30)\n",
    "plt.title(\"Scatter Plot for M2\")\n",
    "plt.show()\n"
   ]
  },
  {
   "cell_type": "markdown",
   "id": "94789f91",
   "metadata": {},
   "source": [
    "creates a scatter plot with the M2 and SECTION columns  "
   ]
  },
  {
   "cell_type": "code",
   "execution_count": 55,
   "id": "3ec35e65",
   "metadata": {},
   "outputs": [
    {
     "data": {
      "image/png": "[encoded data removed]",
      "text/plain": [
       "<Figure size 640x480 with 1 Axes>"
      ]
     },
     "metadata": {},
     "output_type": "display_data"
    }
   ],
   "source": [
    "data = {'BEEE': [1, 2, 3, 4, 5, 6, 7], 'SECTION': ['ALPHA', 'BETA', 'GAMMA', 'DELTA', 'SIGMA' , 'ZETA', 'EPSILON']}\n",
    "df = pd.DataFrame(data)\n",
    "if not pd.api.types.is_numeric_dtype(df['SECTION']):\n",
    "    df['SECTION'] = pd.Categorical(df['SECTION']).codes\n",
    "df.plot.scatter(x='BEEE', y='SECTION', color='yellow', s=20)\n",
    "plt.title(\"Scatter Plot for BEEE\")\n",
    "plt.show()"
   ]
  },
  {
   "cell_type": "code",
   "execution_count": 56,
   "id": "a5b5d31e",
   "metadata": {},
   "outputs": [
    {
     "data": {
      "image/png": "[encoded data removed]",
      "text/plain": [
       "<Figure size 640x480 with 1 Axes>"
      ]
     },
     "metadata": {},
     "output_type": "display_data"
    }
   ],
   "source": [
    "data = {'FL': [1, 2, 3, 4, 5, 6, 7], 'SECTION': ['ALPHA', 'BETA', 'GAMMA', 'DELTA', 'SIGMA' , 'ZETA', 'EPSILON']}\n",
    "df = pd.DataFrame(data)\n",
    "if not pd.api.types.is_numeric_dtype(df['SECTION']):\n",
    "    df['SECTION'] = pd.Categorical(df['SECTION']).codes\n",
    "df.plot.scatter(x='FL', y='SECTION', color='blue', s=30)\n",
    "plt.title(\"Scatter Plot for FL\")\n",
    "plt.show()\n"
   ]
  },
  {
   "cell_type": "code",
   "execution_count": 57,
   "id": "32c7ed9c",
   "metadata": {},
   "outputs": [
    {
     "data": {
      "image/png": "[encoded data removed]",
      "text/plain": [
       "<Figure size 640x480 with 1 Axes>"
      ]
     },
     "metadata": {},
     "output_type": "display_data"
    }
   ],
   "source": [
    "df.boxplot(by='SECTION', column =['SECTION'], grid = False,color='Green')\n",
    "plt.title(\"Boxplot of SECTION\")\n",
    "plt.ylabel(\"Total\")\n",
    "plt.show()"
   ]
  },
  {
   "cell_type": "code",
   "execution_count": 58,
   "id": "c884cd39",
   "metadata": {},
   "outputs": [
    {
     "data": {
      "text/plain": [
       "Text(0.5, 1.0, 'Pie Chart of SECTION')"
      ]
     },
     "execution_count": 58,
     "metadata": {},
     "output_type": "execute_result"
    },
    {
     "data": {
      "image/png": "[encoded data removed]",
      "text/plain": [
       "<Figure size 500x500 with 1 Axes>"
      ]
     },
     "metadata": {},
     "output_type": "display_data"
    }
   ],
   "source": [
    "df['SECTION'].plot(kind='pie',subplots=True,figsize=(5,5))\n",
    "plt.title(\"Pie Chart of SECTION\")"
   ]
  },
  {
   "cell_type": "code",
   "execution_count": 59,
   "id": "0be82927",
   "metadata": {},
   "outputs": [
    {
     "data": {
      "image/png": "[encoded data removed]",
      "text/plain": [
       "<Figure size 500x500 with 1 Axes>"
      ]
     },
     "metadata": {},
     "output_type": "display_data"
    }
   ],
   "source": [
    "import matplotlib.pyplot as plt\n",
    "import seaborn as sns\n",
    "\n",
    "# Define colors from Seaborn palette\n",
    "colors = sns.color_palette(\"pastel\")  # You can change to \"Set2\", \"muted\", etc.\n",
    "\n",
    "# Plot Pie Chart with custom colors\n",
    "plt.figure(figsize=(5, 5))\n",
    "df['SECTION'].plot(kind='pie', colors=colors)\n",
    "\n",
    "# Title & Display\n",
    "plt.title(\"Pie Chart of SECTION\")\n",
    "plt.ylabel('')  # Hide y-label for a cleaner look\n",
    "plt.show()\n"
   ]
  },
  {
   "cell_type": "markdown",
   "id": "ec6b433a",
   "metadata": {},
   "source": [
    " generates a pie chart that visualizes the distribution of values in the SECTION column of df, with the  figure size and title."
   ]
  },
  {
   "cell_type": "code",
   "execution_count": 60,
   "id": "1fb3991a",
   "metadata": {},
   "outputs": [
    {
     "data": {
      "text/html": [
       "<div>\n",
       "<style scoped>\n",
       "    .dataframe tbody tr th:only-of-type {\n",
       "        vertical-align: middle;\n",
       "    }\n",
       "\n",
       "    .dataframe tbody tr th {\n",
       "        vertical-align: top;\n",
       "    }\n",
       "\n",
       "    .dataframe thead th {\n",
       "        text-align: right;\n",
       "    }\n",
       "</style>\n",
       "<table border=\"1\" class=\"dataframe\">\n",
       "  <thead>\n",
       "    <tr style=\"text-align: right;\">\n",
       "      <th></th>\n",
       "      <th>FL</th>\n",
       "      <th>SECTION</th>\n",
       "    </tr>\n",
       "  </thead>\n",
       "  <tbody>\n",
       "    <tr>\n",
       "      <th>0</th>\n",
       "      <td>1</td>\n",
       "      <td>0</td>\n",
       "    </tr>\n",
       "    <tr>\n",
       "      <th>1</th>\n",
       "      <td>2</td>\n",
       "      <td>1</td>\n",
       "    </tr>\n",
       "    <tr>\n",
       "      <th>2</th>\n",
       "      <td>3</td>\n",
       "      <td>4</td>\n",
       "    </tr>\n",
       "    <tr>\n",
       "      <th>3</th>\n",
       "      <td>4</td>\n",
       "      <td>2</td>\n",
       "    </tr>\n",
       "    <tr>\n",
       "      <th>4</th>\n",
       "      <td>5</td>\n",
       "      <td>5</td>\n",
       "    </tr>\n",
       "    <tr>\n",
       "      <th>5</th>\n",
       "      <td>6</td>\n",
       "      <td>6</td>\n",
       "    </tr>\n",
       "    <tr>\n",
       "      <th>6</th>\n",
       "      <td>7</td>\n",
       "      <td>3</td>\n",
       "    </tr>\n",
       "  </tbody>\n",
       "</table>\n",
       "</div>"
      ],
      "text/plain": [
       "   FL  SECTION\n",
       "0   1        0\n",
       "1   2        1\n",
       "2   3        4\n",
       "3   4        2\n",
       "4   5        5\n",
       "5   6        6\n",
       "6   7        3"
      ]
     },
     "execution_count": 60,
     "metadata": {},
     "output_type": "execute_result"
    }
   ],
   "source": [
    "df"
   ]
  },
  {
   "cell_type": "code",
   "execution_count": null,
   "id": "da8faaf1",
   "metadata": {},
   "outputs": [],
   "source": [
    "plt.hist(df['Grade'], bins=10, color='orange', edgecolor='black')\n",
    "plt.title(\"GRADES OF DV\")\n",
    "plt.xlabel(\"DV\")\n",
    "plt.ylabel(\"Number of Students\")\n",
    "plt.show()"
   ]
  },
  {
   "cell_type": "code",
   "execution_count": null,
   "id": "0ae38358",
   "metadata": {},
   "outputs": [],
   "source": [
    "subset = []\n",
    "for index, row in df.iterrows():\n",
    "    if (row.iloc[1:] == 20).any():\n",
    "        subset.append(row)\n",
    "subset_df = pd.DataFrame(subset)\n",
    "print(subset_df)"
   ]
  },
  {
   "cell_type": "code",
   "execution_count": null,
   "id": "3e46d4e0",
   "metadata": {},
   "outputs": [],
   "source": [
    "df['Status']=None\n",
    "df"
   ]
  },
  {
   "cell_type": "code",
   "execution_count": null,
   "id": "cf31bc0e",
   "metadata": {},
   "outputs": [],
   "source": [
    "df['status']=None\n",
    "df"
   ]
  },
  {
   "cell_type": "code",
   "execution_count": null,
   "id": "4d531e03",
   "metadata": {},
   "outputs": [],
   "source": [
    "performance_counts = df['Performance'].value_counts()\n",
    "plt.figure(figsize=(6, 8))\n",
    "plt.pie(performance_counts, labels=performance_counts.index, autopct='%1.2f%%',)\n",
    "plt.title('Distribution of Programming Skills')\n",
    "plt.show()"
   ]
  },
  {
   "cell_type": "code",
   "execution_count": null,
   "id": "d0c2caea",
   "metadata": {},
   "outputs": [],
   "source": [
    "performance_counts = df['BC'].value_counts()\n",
    "plt.figure(figsize=(8, 8))\n",
    "plt.pie(performance_counts, labels=performance_counts.index, autopct='%1.2f%%',)\n",
    "plt.title('Distribution of backlogs')\n",
    "plt.show()"
   ]
  },
  {
   "cell_type": "code",
   "execution_count": null,
   "id": "b6d89e2a",
   "metadata": {},
   "outputs": [],
   "source": [
    "status_counts = subset['status'].value_counts()\n",
    "plt.figure(figsize=(8, 8))\n",
    "plt.pie(status_counts, labels=status_counts.index, autopct='%1.2f%%',)\n",
    "plt.title('status')\n",
    "plt.show()"
   ]
  },
  {
   "cell_type": "code",
   "execution_count": null,
   "id": "e6159b08",
   "metadata": {},
   "outputs": [],
   "source": [
    "subset = df[df['DV']==20]\n",
    "subset"
   ]
  },
  {
   "cell_type": "code",
   "execution_count": null,
   "id": "cb6d3a91",
   "metadata": {},
   "outputs": [],
   "source": [
    "subset = df[df['BEEE']==20]\n",
    "subset"
   ]
  },
  {
   "cell_type": "code",
   "execution_count": null,
   "id": "5776cbbf",
   "metadata": {},
   "outputs": [],
   "source": [
    "subset = df[df['PP']==20]\n",
    "subset"
   ]
  },
  {
   "cell_type": "code",
   "execution_count": null,
   "id": "7b4d75ef",
   "metadata": {},
   "outputs": [],
   "source": [
    "subset = df[df['M2']==20]\n",
    "subset"
   ]
  },
  {
   "cell_type": "code",
   "execution_count": null,
   "id": "211f4043",
   "metadata": {},
   "outputs": [],
   "source": [
    "subset = df[df['FL']==20]\n",
    "subset"
   ]
  },
  {
   "cell_type": "code",
   "execution_count": null,
   "id": "cc004448",
   "metadata": {},
   "outputs": [],
   "source": [
    "subset = df[df['FIMS']==20]\n",
    "subset"
   ]
  },
  {
   "cell_type": "code",
   "execution_count": null,
   "id": "5e32f206",
   "metadata": {},
   "outputs": [],
   "source": [
    "subset['status']=subset['BEEE']==20\n",
    "subset"
   ]
  },
  {
   "cell_type": "code",
   "execution_count": null,
   "id": "2b72c06e",
   "metadata": {},
   "outputs": [],
   "source": []
  },
  {
   "cell_type": "code",
   "execution_count": null,
   "id": "751b3c51",
   "metadata": {},
   "outputs": [],
   "source": [
    "subset['status']=subset['FL']==20\n",
    "subset"
   ]
  },
  {
   "cell_type": "code",
   "execution_count": null,
   "id": "12edad5a",
   "metadata": {},
   "outputs": [],
   "source": [
    "subset['status']=subset['FIMS']==20\n",
    "subset"
   ]
  },
  {
   "cell_type": "code",
   "execution_count": null,
   "id": "ab36ef08",
   "metadata": {},
   "outputs": [],
   "source": [
    "subset['status']=subset['DV']==20\n",
    "subset"
   ]
  },
  {
   "cell_type": "code",
   "execution_count": null,
   "id": "613f905a",
   "metadata": {},
   "outputs": [],
   "source": [
    "subset['status']=subset['M2']==20\n",
    "subset"
   ]
  },
  {
   "cell_type": "code",
   "execution_count": null,
   "id": "1dd66def",
   "metadata": {},
   "outputs": [],
   "source": [
    "subset['status']=subset['PP']==20\n",
    "subset"
   ]
  },
  {
   "cell_type": "code",
   "execution_count": null,
   "id": "c7f19719",
   "metadata": {},
   "outputs": [],
   "source": [
    "subset = df[df['DV']==20]\n",
    "subset"
   ]
  },
  {
   "cell_type": "code",
   "execution_count": null,
   "id": "2b0820f4",
   "metadata": {},
   "outputs": [],
   "source": [
    "subset = df[df['PP']==20]\n",
    "subset"
   ]
  },
  {
   "cell_type": "code",
   "execution_count": null,
   "id": "02ac3288",
   "metadata": {},
   "outputs": [],
   "source": [
    "subset = df[df['BEEE']==20]\n",
    "subset"
   ]
  },
  {
   "cell_type": "code",
   "execution_count": null,
   "id": "0dad14f0",
   "metadata": {},
   "outputs": [],
   "source": [
    "subset.value_counts()"
   ]
  },
  {
   "cell_type": "code",
   "execution_count": null,
   "id": "65eaa3f1",
   "metadata": {},
   "outputs": [],
   "source": [
    "subset.describe()"
   ]
  },
  {
   "cell_type": "code",
   "execution_count": null,
   "id": "0c478a04",
   "metadata": {},
   "outputs": [],
   "source": [
    "subset = df[df.iloc[:, 1:].eq(20).any(axis=1)]\n",
    "print(subset)"
   ]
  },
  {
   "cell_type": "code",
   "execution_count": null,
   "id": "e5fa7980",
   "metadata": {},
   "outputs": [],
   "source": [
    "probability_analysis = df[\"DV\"].describe()\n",
    "print(probability_analysis)"
   ]
  },
  {
   "cell_type": "code",
   "execution_count": null,
   "id": "c9a82431",
   "metadata": {},
   "outputs": [],
   "source": [
    "passing_mark = 10\n",
    "failure_counts = (df[\"FIMS\"] < passing_mark).sum()\n",
    "failure_percentage = (failure_counts / len(df)) * 100\n",
    "print(failure_percentage)"
   ]
  },
  {
   "cell_type": "code",
   "execution_count": null,
   "id": "0a52f605",
   "metadata": {},
   "outputs": [],
   "source": [
    "passing_mark = 10\n",
    "failure_counts = (d[\"DV\"] < passing_mark).sum()\n",
    "failure_percentage = (failure_counts / len(df)) * 100\n",
    "print(failure_percentage)"
   ]
  },
  {
   "cell_type": "code",
   "execution_count": null,
   "id": "02a4b7eb",
   "metadata": {},
   "outputs": [],
   "source": [
    "import pandas as pd\n",
    "file_path = \"C:/Users/vaish/OneDrive/Desktop/DA/MIDMARKS (2).xlsx\" \n",
    "k = pd.read_excel(file_path)\n",
    "for col in k.columns[2:]:\n",
    "    k[col] = pd.to_numeric(k[col], errors='coerce')\n",
    "passing_marks = 10\n",
    "subject_section_pass = k.groupby('SECTION').apply(\n",
    "    lambda df: (df.iloc[:, 2:] >= passing_marks).sum()\n",
    ")\n",
    "subject_section_fail = k.groupby('SECTION').apply(\n",
    "    lambda df: (df.iloc[:, 2:] < passing_marks).sum()\n",
    ")\n",
    "total_students_per_section = k.groupby('SECTION').size()\n",
    "prob_pass = subject_section_pass.div(total_students_per_section, axis=0)\n",
    "prob_fail = subject_section_fail.div(total_students_per_section, axis=0)\n",
    "print(\"Number of students passing each subject in each section:\")\n",
    "print(subject_section_pass)\n",
    "print(\"\\nNumber of students failing each subject in each section:\")\n",
    "print(subject_section_fail)\n",
    "print(\"\\nProbability of students passing each subject in each section:\")\n",
    "print(prob_pass)\n",
    "print(\"\\nProbability of students failing each subject in each section:\")\n",
    "print(prob_fail)\n"
   ]
  },
  {
   "cell_type": "code",
   "execution_count": null,
   "id": "d9a64e54",
   "metadata": {},
   "outputs": [],
   "source": [
    "df1=(df['DV']>10)\n",
    "df1.value_counts()"
   ]
  },
  {
   "cell_type": "code",
   "execution_count": null,
   "id": "e2199592",
   "metadata": {},
   "outputs": [],
   "source": [
    "df1=(df['FIMS']>10)\n",
    "df1.value_counts()"
   ]
  },
  {
   "cell_type": "code",
   "execution_count": null,
   "id": "5c254a92",
   "metadata": {},
   "outputs": [],
   "source": [
    "df2=(df['DV']<10)&(df['SECTION']=='ALPHA')\n",
    "df2.value_counts()"
   ]
  },
  {
   "cell_type": "code",
   "execution_count": null,
   "id": "6c254aee",
   "metadata": {},
   "outputs": [],
   "source": [
    "df.describe()"
   ]
  },
  {
   "cell_type": "code",
   "execution_count": null,
   "id": "3f2b5a8f",
   "metadata": {},
   "outputs": [],
   "source": [
    "df.count()"
   ]
  },
  {
   "cell_type": "code",
   "execution_count": null,
   "id": "1b7cc945",
   "metadata": {},
   "outputs": [],
   "source": [
    "df.size"
   ]
  },
  {
   "cell_type": "code",
   "execution_count": null,
   "id": "31a6f523",
   "metadata": {},
   "outputs": [],
   "source": [
    "df.shape"
   ]
  },
  {
   "cell_type": "code",
   "execution_count": null,
   "id": "4c15561e",
   "metadata": {},
   "outputs": [],
   "source": [
    "df3=df[\"DV\"]>10/len(df_n)\n",
    "df3.value_counts()"
   ]
  },
  {
   "cell_type": "code",
   "execution_count": null,
   "id": "fa8dc8ca",
   "metadata": {},
   "outputs": [],
   "source": [
    "df4 = df[df_n[\"SECTION\"] == \"ALPHA\"]\n",
    "mv = df4.mean()\n",
    "print(mv)\n",
    "  "
   ]
  },
  {
   "cell_type": "code",
   "execution_count": null,
   "id": "bc4cae6a",
   "metadata": {},
   "outputs": [],
   "source": [
    "alpha_dv_mean = df[df[\"SECTION\"] == \"ALPHA\"][\"DV\"].mean()\n",
    "print(f\"Mean value of DV for ALPHA section: {alpha_dv_mean}\")\n"
   ]
  },
  {
   "cell_type": "code",
   "execution_count": null,
   "id": "97ebd6b7",
   "metadata": {},
   "outputs": [],
   "source": [
    "gb =df.groupby(['SECTION']).mean()\n",
    "gb"
   ]
  },
  {
   "cell_type": "code",
   "execution_count": null,
   "id": "0e64fe73",
   "metadata": {},
   "outputs": [],
   "source": [
    "df[df[\"SECTION\"] == \"ALPHA\"].std()"
   ]
  },
  {
   "cell_type": "code",
   "execution_count": null,
   "id": "9212c246",
   "metadata": {},
   "outputs": [],
   "source": [
    "gb1 =df.groupby(['SECTION']).std()\n",
    "gb1"
   ]
  },
  {
   "cell_type": "code",
   "execution_count": null,
   "id": "a224c1fe",
   "metadata": {},
   "outputs": [],
   "source": [
    "df_n.shape"
   ]
  },
  {
   "cell_type": "code",
   "execution_count": null,
   "id": "a2734ea3",
   "metadata": {},
   "outputs": [],
   "source": [
    "alpha_dv_mean1 = df[\"DV\"].mean()\n",
    "print(f\"Mean value of DV for ALPHA section: {alpha_dv_mean1}\")"
   ]
  },
  {
   "cell_type": "code",
   "execution_count": null,
   "id": "e00ebc89",
   "metadata": {},
   "outputs": [],
   "source": [
    "dfshape"
   ]
  },
  {
   "cell_type": "code",
   "execution_count": null,
   "id": "7f6ece7b",
   "metadata": {},
   "outputs": [],
   "source": [
    "df.shape"
   ]
  },
  {
   "cell_type": "code",
   "execution_count": null,
   "id": "ab635b0c",
   "metadata": {},
   "outputs": [],
   "source": [
    "df.info()\n"
   ]
  },
  {
   "cell_type": "code",
   "execution_count": null,
   "id": "fdf10845",
   "metadata": {},
   "outputs": [],
   "source": [
    "df.size"
   ]
  },
  {
   "cell_type": "code",
   "execution_count": null,
   "id": "b5776c15",
   "metadata": {},
   "outputs": [],
   "source": [
    "import numpy as np\n",
    "alpha_dv = df[df[\"SECTION\"] == \"ALPHA\"][\"DV\"]\n",
    "alpha_dv_std = np.std(alpha_dv, ddof=0)  \n",
    "print(f\"Standard Deviation of DV in ALPHA section: {alpha_dv_std}\")"
   ]
  },
  {
   "cell_type": "code",
   "execution_count": null,
   "id": "1e70f97d",
   "metadata": {},
   "outputs": [],
   "source": [
    "df[df[\"SECTION\"]==\"ALPHA\"].mean()"
   ]
  },
  {
   "cell_type": "code",
   "execution_count": null,
   "id": "5b259533",
   "metadata": {},
   "outputs": [],
   "source": [
    "df"
   ]
  },
  {
   "cell_type": "code",
   "execution_count": null,
   "id": "03eb080d",
   "metadata": {},
   "outputs": [],
   "source": [
    "from scipy.stats import ttest_ind"
   ]
  },
  {
   "cell_type": "code",
   "execution_count": null,
   "id": "cea4b35e",
   "metadata": {},
   "outputs": [],
   "source": [
    "from scipy.stats import stats"
   ]
  },
  {
   "cell_type": "code",
   "execution_count": null,
   "id": "9800063d",
   "metadata": {},
   "outputs": [],
   "source": [
    "df[df['SECTION']=='ALPHA']['DV']\n",
    "\n"
   ]
  },
  {
   "cell_type": "code",
   "execution_count": null,
   "id": "518f0fd2",
   "metadata": {},
   "outputs": [],
   "source": [
    "ttest_ind(group1['DV'])"
   ]
  },
  {
   "cell_type": "code",
   "execution_count": null,
   "id": "c3a0568f",
   "metadata": {},
   "outputs": [],
   "source": [
    "ttest_ind(df[df['SECTION']=='ALPHA']['DV'],df[df['SECTION']=='BETA']['DV'])"
   ]
  },
  {
   "cell_type": "code",
   "execution_count": null,
   "id": "46f520e4",
   "metadata": {},
   "outputs": [],
   "source": [
    "t_statistics,p_value=stats.ttest_1samp(df[df['SECTION']=='ALPHA']['DV'],popmean=14.41)\n",
    "print(t_statistics,p_value)"
   ]
  },
  {
   "cell_type": "code",
   "execution_count": null,
   "id": "f1237cf9",
   "metadata": {},
   "outputs": [],
   "source": [
    "t_statistics,p_value=stats.ttest_1samp(df[df['SECTION']=='ALPHA']['DV'],df_n.DV.mean())\n",
    "print(t_statistics,p_value)"
   ]
  },
  {
   "cell_type": "code",
   "execution_count": null,
   "id": "8432e819",
   "metadata": {},
   "outputs": [],
   "source": [
    "df4 = df[df[\"SECTION\"] == \"BETA\"]\n",
    "mv = df4.mean()\n",
    "print(mv)"
   ]
  },
  {
   "cell_type": "code",
   "execution_count": null,
   "id": "a0dd7e8f",
   "metadata": {},
   "outputs": [],
   "source": [
    "df5 = df[df[\"SECTION\"] == \"GAMMA\"]\n",
    "mv = df5.mean()\n",
    "print(mv)"
   ]
  },
  {
   "cell_type": "code",
   "execution_count": null,
   "id": "0486a5c3",
   "metadata": {},
   "outputs": [],
   "source": [
    "ttest_ind(df[df['SECTION']=='ALPHA']['DV'],df[df['SECTION']=='BETA']['DV'])"
   ]
  },
  {
   "cell_type": "code",
   "execution_count": null,
   "id": "04179d4b",
   "metadata": {},
   "outputs": [],
   "source": [
    "ttest_ind(df[df['SECTION']=='ALPHA'].DV.mean(),df[df['SECTION']=='BETA'].DV.mean())"
   ]
  },
  {
   "cell_type": "code",
   "execution_count": null,
   "id": "80c963ce",
   "metadata": {},
   "outputs": [],
   "source": []
  },
  {
   "cell_type": "code",
   "execution_count": null,
   "id": "5c233b1e",
   "metadata": {},
   "outputs": [],
   "source": [
    "df5 = df[df[\"SECTION\"] == \"DELTA\"].DV\n",
    "mv = df5.mean()\n",
    "print(mv)"
   ]
  },
  {
   "cell_type": "code",
   "execution_count": null,
   "id": "f6c410b2",
   "metadata": {},
   "outputs": [],
   "source": [
    "df5 = df[df[\"SECTION\"] == \"DELTA\"]\n",
    "mv = df5.mean()\n",
    "print(mv)"
   ]
  },
  {
   "cell_type": "code",
   "execution_count": null,
   "id": "50a84bda",
   "metadata": {},
   "outputs": [],
   "source": [
    "from scipy.stats import ttest_ind\n",
    "t_stat, p_val = ttest_ind(df[df['SECTION']=='ALPHA']['DV'], df[df['SECTION']=='BETA']['DV'], equal_var=False)\n",
    "alpha_dv_mean = df[df['SECTION']=='ALPHA']['DV'].mean()\n",
    "beta_dv_mean = df[df['SECTION']=='BETA']['DV'].mean()\n",
    "print(f\"Mean value of DV for ALPHA section: {alpha_dv_mean}\")\n",
    "print(f\"Mean value of DV for BETA section: {beta_dv_mean}\")\n",
    "print(f\"t-statistic: {t_stat}, p-value: {p_val}\")"
   ]
  },
  {
   "cell_type": "code",
   "execution_count": null,
   "id": "f0d86945",
   "metadata": {},
   "outputs": [],
   "source": [
    "from scipy.stats import ttest_ind\n",
    "t_stat, p_val = ttest_ind(df[df['SECTION']=='ALPHA']['DV'], df[df['SECTION']=='GAMMA']['DV'], equal_var=False)\n",
    "alpha_dv_mean = df[df['SECTION']=='ALPHA']['DV'].mean()\n",
    "beta_dv_mean = df[df['SECTION']=='BETA']['DV'].mean()\n",
    "print(f\"Mean value of DV for ALPHA section: {alpha_dv_mean}\")\n",
    "print(f\"Mean value of DV for BETA section: {beta_dv_mean}\")\n",
    "print(f\"t-statistic: {t_stat}, p-value: {p_val}\")"
   ]
  },
  {
   "cell_type": "code",
   "execution_count": null,
   "id": "4877b514",
   "metadata": {},
   "outputs": [],
   "source": [
    "numeric_columns = df.select_dtypes(include=[\"number\"]).columns\n",
    "\n",
    "# Compute correlation matrix\n",
    "correlation_matrix = df[numeric_columns].corr()\n",
    "\n",
    "# Plot heatmap\n",
    "plt.figure(figsize=(8, 6))\n",
    "sns.heatmap(correlation_matrix, annot=True, cmap=\"Pastel1\", fmt=\".2f\", linewidths=0.5)\n",
    "plt.title(\"Correlation Heatmap of Subject Scores\")\n",
    "plt.show()"
   ]
  },
  {
   "cell_type": "code",
   "execution_count": null,
   "id": "5a169e40",
   "metadata": {},
   "outputs": [],
   "source": [
    "plt.figure(figsize=(8, 5))\n",
    "sns.histplot(df[\"Total\"], bins=10, kde=True, color=\"blue\", edgecolor=\"black\")\n",
    "plt.title(\"Distribution of Total Scores\")\n",
    "plt.xlabel(\"Total Score\")\n",
    "plt.ylabel(\"Number of Students\")\n",
    "plt.show()\n"
   ]
  },
  {
   "cell_type": "code",
   "execution_count": null,
   "id": "5b2959e3",
   "metadata": {},
   "outputs": [],
   "source": [
    "# Calculate average marks per subject\n",
    "avg_scores = df[numeric_columns].mean().sort_values()\n",
    "\n",
    "plt.figure(figsize=(8, 6))\n",
    "sns.barplot(x=avg_scores.index, y=avg_scores.values, palette=\"viridis\")\n",
    "plt.xticks(rotation=45)\n",
    "plt.title(\"Average Marks per Subject\")\n",
    "plt.xlabel(\"Subjects\")\n",
    "plt.ylabel(\"Average Marks\")\n",
    "plt.show()\n"
   ]
  },
  {
   "cell_type": "code",
   "execution_count": null,
   "id": "0d05a193",
   "metadata": {},
   "outputs": [],
   "source": [
    "plt.figure(figsize=(8, 6))\n",
    "sns.scatterplot(x=df[\"M2\"], y=df[\"PP\"], color=\"yellow\", alpha=0.7)\n",
    "plt.title(\"Relationship Between Mathematics (M-II) and Physics (PP) Scores\")\n",
    "plt.xlabel(\"M-II Scores\")\n",
    "plt.ylabel(\"PP Scores\")\n",
    "plt.show()\n"
   ]
  },
  {
   "cell_type": "code",
   "execution_count": null,
   "id": "58581c7b",
   "metadata": {},
   "outputs": [],
   "source": [
    "plt.figure(figsize=(8, 6))\n",
    "sns.boxplot(x=df[\"SECTION\"], y=df[\"Total\"], palette=\"Set2\")\n",
    "plt.title(\"Section-wise Performance Distribution\")\n",
    "plt.xlabel(\"Section\")\n",
    "plt.ylabel(\"Total Score\")\n",
    "plt.show()\n"
   ]
  },
  {
   "cell_type": "code",
   "execution_count": null,
   "id": "3e2c6b65",
   "metadata": {},
   "outputs": [],
   "source": [
    "# Define passing threshold (assuming 40% of the max total score)\n",
    "passing_threshold = df[\"Total\"].max() * 0.4\n",
    "pass_count = (df[\"Total\"] >= passing_threshold).sum()\n",
    "fail_count = (df[\"Total\"] < passing_threshold).sum()\n",
    "\n",
    "# Plot Pie Chart\n",
    "plt.figure(figsize=(6, 6))\n",
    "plt.pie([pass_count, fail_count], labels=[\"Pass\", \"Fail\"], autopct=\"%1.1f%%\", colors=[\"green\", \"red\"])\n",
    "plt.title(\"Pass vs Fail Ratio\")\n",
    "plt.show()\n"
   ]
  },
  {
   "cell_type": "code",
   "execution_count": null,
   "id": "eff7dd22",
   "metadata": {},
   "outputs": [],
   "source": [
    "plt.figure(figsize=(10, 6))\n",
    "sns.violinplot(data=df[numeric_columns], palette=\"coolwarm\")\n",
    "plt.xticks(rotation=45)\n",
    "plt.title(\"Subject-wise Score Distribution\")\n",
    "plt.xlabel(\"Subjects\")\n",
    "plt.ylabel(\"Marks\")\n",
    "plt.show()\n"
   ]
  },
  {
   "cell_type": "code",
   "execution_count": null,
   "id": "85944dcf",
   "metadata": {},
   "outputs": [],
   "source": []
  },
  {
   "cell_type": "code",
   "execution_count": null,
   "id": "cc8c4a12",
   "metadata": {},
   "outputs": [],
   "source": []
  }
 ],
 "metadata": {
  "kernelspec": {
   "display_name": "Python 3 (ipykernel)",
   "language": "python",
   "name": "python3"
  },
  "language_info": {
   "codemirror_mode": {
    "name": "ipython",
    "version": 3
   },
   "file_extension": ".py",
   "mimetype": "text/x-python",
   "name": "python",
   "nbconvert_exporter": "python",
   "pygments_lexer": "ipython3",
   "version": "3.11.3"
  }
 },
 "nbformat": 4,
 "nbformat_minor": 5
}
